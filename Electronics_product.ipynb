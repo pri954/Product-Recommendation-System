{
 "cells": [
  {
   "cell_type": "code",
   "execution_count": 50,
   "id": "087c4b00",
   "metadata": {},
   "outputs": [],
   "source": [
    "import pandas as pd\n",
    "import numpy as np"
   ]
  },
  {
   "cell_type": "code",
   "execution_count": 51,
   "id": "3fb8648d",
   "metadata": {},
   "outputs": [
    {
     "data": {
      "text/html": [
       "<div>\n",
       "<style scoped>\n",
       "    .dataframe tbody tr th:only-of-type {\n",
       "        vertical-align: middle;\n",
       "    }\n",
       "\n",
       "    .dataframe tbody tr th {\n",
       "        vertical-align: top;\n",
       "    }\n",
       "\n",
       "    .dataframe thead th {\n",
       "        text-align: right;\n",
       "    }\n",
       "</style>\n",
       "<table border=\"1\" class=\"dataframe\">\n",
       "  <thead>\n",
       "    <tr style=\"text-align: right;\">\n",
       "      <th></th>\n",
       "      <th>name</th>\n",
       "      <th>main_category</th>\n",
       "      <th>sub_category</th>\n",
       "      <th>image</th>\n",
       "      <th>link</th>\n",
       "      <th>ratings</th>\n",
       "      <th>no_of_ratings</th>\n",
       "      <th>discount_price</th>\n",
       "      <th>actual_price</th>\n",
       "    </tr>\n",
       "  </thead>\n",
       "  <tbody>\n",
       "    <tr>\n",
       "      <th>0</th>\n",
       "      <td>Redmi 10 Power (Power Black, 8GB RAM, 128GB Storage)</td>\n",
       "      <td>tv, audio &amp; cameras</td>\n",
       "      <td>All Electronics</td>\n",
       "      <td>https://m.media-amazon.com/images/I/81eM15lVcJL._AC_UL320_.jpg</td>\n",
       "      <td>https://www.amazon.in/Redmi-Power-Black-128GB-Storage/dp/B09Y64H8VS/ref=sr_1_4?qid=1679133649&amp;s=electronics&amp;sr=1-4</td>\n",
       "      <td>4.0</td>\n",
       "      <td>965</td>\n",
       "      <td>₹10,999</td>\n",
       "      <td>₹18,999</td>\n",
       "    </tr>\n",
       "    <tr>\n",
       "      <th>1</th>\n",
       "      <td>OnePlus Nord CE 2 Lite 5G (Blue Tide, 6GB RAM, 128GB Storage)</td>\n",
       "      <td>tv, audio &amp; cameras</td>\n",
       "      <td>All Electronics</td>\n",
       "      <td>https://m.media-amazon.com/images/I/71AvQd3VzqL._AC_UL320_.jpg</td>\n",
       "      <td>https://www.amazon.in/OnePlus-Nord-Lite-128GB-Storage/dp/B09WQYFLRX/ref=sr_1_5?qid=1679133649&amp;s=electronics&amp;sr=1-5</td>\n",
       "      <td>4.3</td>\n",
       "      <td>113,956</td>\n",
       "      <td>₹18,999</td>\n",
       "      <td>₹19,999</td>\n",
       "    </tr>\n",
       "    <tr>\n",
       "      <th>2</th>\n",
       "      <td>OnePlus Bullets Z2 Bluetooth Wireless in Ear Earphones with Mic, Bombastic Bass - 12.4 Mm Drivers, 10 Mins Charge - 20 Hrs...</td>\n",
       "      <td>tv, audio &amp; cameras</td>\n",
       "      <td>All Electronics</td>\n",
       "      <td>https://m.media-amazon.com/images/I/51UhwaQXCpL._AC_UL320_.jpg</td>\n",
       "      <td>https://www.amazon.in/Oneplus-Bluetooth-Wireless-Earphones-Bombastic/dp/B09TVVGXWS/ref=sr_1_6?qid=1679133649&amp;s=electronics&amp;sr=1-6</td>\n",
       "      <td>4.2</td>\n",
       "      <td>90,304</td>\n",
       "      <td>₹1,999</td>\n",
       "      <td>₹2,299</td>\n",
       "    </tr>\n",
       "    <tr>\n",
       "      <th>3</th>\n",
       "      <td>Samsung Galaxy M33 5G (Mystique Green, 6GB, 128GB Storage) | 6000mAh Battery | Upto 12GB RAM with RAM Plus | Travel Adapte...</td>\n",
       "      <td>tv, audio &amp; cameras</td>\n",
       "      <td>All Electronics</td>\n",
       "      <td>https://m.media-amazon.com/images/I/81I3w4J6yjL._AC_UL320_.jpg</td>\n",
       "      <td>https://www.amazon.in/Samsung-Mystique-Storage-Purchased-Separately/dp/B09TWGDY4W/ref=sr_1_7?qid=1679133649&amp;s=electronics&amp;sr=1-7</td>\n",
       "      <td>4.1</td>\n",
       "      <td>24,863</td>\n",
       "      <td>₹15,999</td>\n",
       "      <td>₹24,999</td>\n",
       "    </tr>\n",
       "    <tr>\n",
       "      <th>4</th>\n",
       "      <td>OnePlus Nord CE 2 Lite 5G (Black Dusk, 6GB RAM, 128GB Storage)</td>\n",
       "      <td>tv, audio &amp; cameras</td>\n",
       "      <td>All Electronics</td>\n",
       "      <td>https://m.media-amazon.com/images/I/71V--WZVUIL._AC_UL320_.jpg</td>\n",
       "      <td>https://www.amazon.in/OnePlus-Nord-Black-128GB-Storage/dp/B09WQY65HN/ref=sr_1_8?qid=1679133649&amp;s=electronics&amp;sr=1-8</td>\n",
       "      <td>4.3</td>\n",
       "      <td>113,956</td>\n",
       "      <td>₹18,999</td>\n",
       "      <td>₹19,999</td>\n",
       "    </tr>\n",
       "  </tbody>\n",
       "</table>\n",
       "</div>"
      ],
      "text/plain": [
       "                                                                                                                            name  \\\n",
       "0                                                                           Redmi 10 Power (Power Black, 8GB RAM, 128GB Storage)   \n",
       "1                                                                  OnePlus Nord CE 2 Lite 5G (Blue Tide, 6GB RAM, 128GB Storage)   \n",
       "2  OnePlus Bullets Z2 Bluetooth Wireless in Ear Earphones with Mic, Bombastic Bass - 12.4 Mm Drivers, 10 Mins Charge - 20 Hrs...   \n",
       "3  Samsung Galaxy M33 5G (Mystique Green, 6GB, 128GB Storage) | 6000mAh Battery | Upto 12GB RAM with RAM Plus | Travel Adapte...   \n",
       "4                                                                 OnePlus Nord CE 2 Lite 5G (Black Dusk, 6GB RAM, 128GB Storage)   \n",
       "\n",
       "         main_category     sub_category  \\\n",
       "0  tv, audio & cameras  All Electronics   \n",
       "1  tv, audio & cameras  All Electronics   \n",
       "2  tv, audio & cameras  All Electronics   \n",
       "3  tv, audio & cameras  All Electronics   \n",
       "4  tv, audio & cameras  All Electronics   \n",
       "\n",
       "                                                            image  \\\n",
       "0  https://m.media-amazon.com/images/I/81eM15lVcJL._AC_UL320_.jpg   \n",
       "1  https://m.media-amazon.com/images/I/71AvQd3VzqL._AC_UL320_.jpg   \n",
       "2  https://m.media-amazon.com/images/I/51UhwaQXCpL._AC_UL320_.jpg   \n",
       "3  https://m.media-amazon.com/images/I/81I3w4J6yjL._AC_UL320_.jpg   \n",
       "4  https://m.media-amazon.com/images/I/71V--WZVUIL._AC_UL320_.jpg   \n",
       "\n",
       "                                                                                                                                link  \\\n",
       "0                 https://www.amazon.in/Redmi-Power-Black-128GB-Storage/dp/B09Y64H8VS/ref=sr_1_4?qid=1679133649&s=electronics&sr=1-4   \n",
       "1                 https://www.amazon.in/OnePlus-Nord-Lite-128GB-Storage/dp/B09WQYFLRX/ref=sr_1_5?qid=1679133649&s=electronics&sr=1-5   \n",
       "2  https://www.amazon.in/Oneplus-Bluetooth-Wireless-Earphones-Bombastic/dp/B09TVVGXWS/ref=sr_1_6?qid=1679133649&s=electronics&sr=1-6   \n",
       "3   https://www.amazon.in/Samsung-Mystique-Storage-Purchased-Separately/dp/B09TWGDY4W/ref=sr_1_7?qid=1679133649&s=electronics&sr=1-7   \n",
       "4                https://www.amazon.in/OnePlus-Nord-Black-128GB-Storage/dp/B09WQY65HN/ref=sr_1_8?qid=1679133649&s=electronics&sr=1-8   \n",
       "\n",
       "  ratings no_of_ratings discount_price actual_price  \n",
       "0     4.0           965        ₹10,999      ₹18,999  \n",
       "1     4.3       113,956        ₹18,999      ₹19,999  \n",
       "2     4.2        90,304         ₹1,999       ₹2,299  \n",
       "3     4.1        24,863        ₹15,999      ₹24,999  \n",
       "4     4.3       113,956        ₹18,999      ₹19,999  "
      ]
     },
     "execution_count": 51,
     "metadata": {},
     "output_type": "execute_result"
    }
   ],
   "source": [
    "electronics = pd.read_csv('All Electronics.csv')\n",
    "electronics.head(5)"
   ]
  },
  {
   "cell_type": "code",
   "execution_count": 52,
   "id": "7e4909d6",
   "metadata": {},
   "outputs": [
    {
     "data": {
      "text/html": [
       "<div>\n",
       "<style scoped>\n",
       "    .dataframe tbody tr th:only-of-type {\n",
       "        vertical-align: middle;\n",
       "    }\n",
       "\n",
       "    .dataframe tbody tr th {\n",
       "        vertical-align: top;\n",
       "    }\n",
       "\n",
       "    .dataframe thead th {\n",
       "        text-align: right;\n",
       "    }\n",
       "</style>\n",
       "<table border=\"1\" class=\"dataframe\">\n",
       "  <thead>\n",
       "    <tr style=\"text-align: right;\">\n",
       "      <th></th>\n",
       "      <th>name</th>\n",
       "      <th>main_category</th>\n",
       "      <th>sub_category</th>\n",
       "      <th>image</th>\n",
       "      <th>link</th>\n",
       "      <th>ratings</th>\n",
       "      <th>no_of_ratings</th>\n",
       "      <th>discount_price</th>\n",
       "      <th>actual_price</th>\n",
       "    </tr>\n",
       "  </thead>\n",
       "  <tbody>\n",
       "    <tr>\n",
       "      <th>count</th>\n",
       "      <td>9600</td>\n",
       "      <td>9600</td>\n",
       "      <td>9600</td>\n",
       "      <td>9600</td>\n",
       "      <td>9600</td>\n",
       "      <td>9505</td>\n",
       "      <td>9505</td>\n",
       "      <td>9116</td>\n",
       "      <td>9530</td>\n",
       "    </tr>\n",
       "    <tr>\n",
       "      <th>unique</th>\n",
       "      <td>8800</td>\n",
       "      <td>1</td>\n",
       "      <td>1</td>\n",
       "      <td>9321</td>\n",
       "      <td>9600</td>\n",
       "      <td>39</td>\n",
       "      <td>3455</td>\n",
       "      <td>1608</td>\n",
       "      <td>1068</td>\n",
       "    </tr>\n",
       "    <tr>\n",
       "      <th>top</th>\n",
       "      <td>TAGG Verve Sense Smartwatch with 1.70'' Large Display, Real SPO2, and Real-Time Heart Rate Tracking, 7 Days Battery Backu...</td>\n",
       "      <td>tv, audio &amp; cameras</td>\n",
       "      <td>All Electronics</td>\n",
       "      <td>https://m.media-amazon.com/images/I/61ARj+szfWL._AC_UL320_.jpg</td>\n",
       "      <td>https://www.amazon.in/Redmi-Power-Black-128GB-Storage/dp/B09Y64H8VS/ref=sr_1_4?qid=1679133649&amp;s=electronics&amp;sr=1-4</td>\n",
       "      <td>4.3</td>\n",
       "      <td>1</td>\n",
       "      <td>₹299</td>\n",
       "      <td>₹999</td>\n",
       "    </tr>\n",
       "    <tr>\n",
       "      <th>freq</th>\n",
       "      <td>9</td>\n",
       "      <td>9600</td>\n",
       "      <td>9600</td>\n",
       "      <td>7</td>\n",
       "      <td>1</td>\n",
       "      <td>1310</td>\n",
       "      <td>51</td>\n",
       "      <td>481</td>\n",
       "      <td>1540</td>\n",
       "    </tr>\n",
       "  </tbody>\n",
       "</table>\n",
       "</div>"
      ],
      "text/plain": [
       "                                                                                                                                name  \\\n",
       "count                                                                                                                           9600   \n",
       "unique                                                                                                                          8800   \n",
       "top     TAGG Verve Sense Smartwatch with 1.70'' Large Display, Real SPO2, and Real-Time Heart Rate Tracking, 7 Days Battery Backu...   \n",
       "freq                                                                                                                               9   \n",
       "\n",
       "              main_category     sub_category  \\\n",
       "count                  9600             9600   \n",
       "unique                    1                1   \n",
       "top     tv, audio & cameras  All Electronics   \n",
       "freq                   9600             9600   \n",
       "\n",
       "                                                                 image  \\\n",
       "count                                                             9600   \n",
       "unique                                                            9321   \n",
       "top     https://m.media-amazon.com/images/I/61ARj+szfWL._AC_UL320_.jpg   \n",
       "freq                                                                 7   \n",
       "\n",
       "                                                                                                                      link  \\\n",
       "count                                                                                                                 9600   \n",
       "unique                                                                                                                9600   \n",
       "top     https://www.amazon.in/Redmi-Power-Black-128GB-Storage/dp/B09Y64H8VS/ref=sr_1_4?qid=1679133649&s=electronics&sr=1-4   \n",
       "freq                                                                                                                     1   \n",
       "\n",
       "       ratings no_of_ratings discount_price actual_price  \n",
       "count     9505          9505           9116         9530  \n",
       "unique      39          3455           1608         1068  \n",
       "top        4.3             1           ₹299         ₹999  \n",
       "freq      1310            51            481         1540  "
      ]
     },
     "execution_count": 52,
     "metadata": {},
     "output_type": "execute_result"
    }
   ],
   "source": [
    "electronics.describe()"
   ]
  },
  {
   "cell_type": "code",
   "execution_count": 53,
   "id": "40a1a426",
   "metadata": {},
   "outputs": [
    {
     "name": "stdout",
     "output_type": "stream",
     "text": [
      "<class 'pandas.core.frame.DataFrame'>\n",
      "RangeIndex: 9600 entries, 0 to 9599\n",
      "Data columns (total 9 columns):\n",
      " #   Column          Non-Null Count  Dtype \n",
      "---  ------          --------------  ----- \n",
      " 0   name            9600 non-null   object\n",
      " 1   main_category   9600 non-null   object\n",
      " 2   sub_category    9600 non-null   object\n",
      " 3   image           9600 non-null   object\n",
      " 4   link            9600 non-null   object\n",
      " 5   ratings         9505 non-null   object\n",
      " 6   no_of_ratings   9505 non-null   object\n",
      " 7   discount_price  9116 non-null   object\n",
      " 8   actual_price    9530 non-null   object\n",
      "dtypes: object(9)\n",
      "memory usage: 675.1+ KB\n"
     ]
    }
   ],
   "source": [
    "electronics.info()"
   ]
  },
  {
   "cell_type": "code",
   "execution_count": 54,
   "id": "b1360a0f",
   "metadata": {},
   "outputs": [
    {
     "name": "stdout",
     "output_type": "stream",
     "text": [
      "Columns haven't contains 'na' values.\n"
     ]
    }
   ],
   "source": [
    "nan_columns = [col for col in electronics.columns if str(col).lower() == 'Na']\n",
    "\n",
    "if nan_columns:\n",
    "    print(\"The columns have 'na' values:\")\n",
    "    print(nan_columns)\n",
    "else:\n",
    "    print(\"Columns haven't contains 'na' values.\")"
   ]
  },
  {
   "cell_type": "code",
   "execution_count": 55,
   "id": "b9bf32c9",
   "metadata": {},
   "outputs": [
    {
     "data": {
      "text/plain": [
       "0"
      ]
     },
     "execution_count": 55,
     "metadata": {},
     "output_type": "execute_result"
    }
   ],
   "source": [
    "# check for duplicates\n",
    "electronics.duplicated().sum()"
   ]
  },
  {
   "cell_type": "code",
   "execution_count": 56,
   "id": "72217818",
   "metadata": {},
   "outputs": [
    {
     "data": {
      "text/plain": [
       "tv, audio & cameras    9600\n",
       "Name: main_category, dtype: int64"
      ]
     },
     "execution_count": 56,
     "metadata": {},
     "output_type": "execute_result"
    }
   ],
   "source": [
    "electronics['main_category'].value_counts()"
   ]
  },
  {
   "cell_type": "code",
   "execution_count": 57,
   "id": "2c7c8e1e",
   "metadata": {},
   "outputs": [
    {
     "data": {
      "text/plain": [
       "All Electronics    9600\n",
       "Name: sub_category, dtype: int64"
      ]
     },
     "execution_count": 57,
     "metadata": {},
     "output_type": "execute_result"
    }
   ],
   "source": [
    "electronics['sub_category'].value_counts()"
   ]
  },
  {
   "cell_type": "code",
   "execution_count": 58,
   "id": "ce73992e",
   "metadata": {},
   "outputs": [],
   "source": [
    "# dropping main_category and  sub_category columns\n",
    "electronics.drop(['main_category','sub_category'],axis=1,inplace=True)"
   ]
  },
  {
   "cell_type": "code",
   "execution_count": 59,
   "id": "cb911809",
   "metadata": {},
   "outputs": [
    {
     "data": {
      "text/plain": [
       "'Redmi 10 Power (Power Black, 8GB RAM, 128GB Storage)'"
      ]
     },
     "execution_count": 59,
     "metadata": {},
     "output_type": "execute_result"
    }
   ],
   "source": [
    "electronics['name'][0]"
   ]
  },
  {
   "cell_type": "code",
   "execution_count": 60,
   "id": "2ea12df2",
   "metadata": {},
   "outputs": [
    {
     "data": {
      "text/plain": [
       "0                                                                             redmi 10 power (power black, 8gb ram, 128gb storage)\n",
       "1                                                                    oneplus nord ce 2 lite 5g (blue tide, 6gb ram, 128gb storage)\n",
       "2    oneplus bullets z2 bluetooth wireless in ear earphones with mic, bombastic bass - 12.4 mm drivers, 10 mins charge - 20 hrs...\n",
       "3    samsung galaxy m33 5g (mystique green, 6gb, 128gb storage) | 6000mah battery | upto 12gb ram with ram plus | travel adapte...\n",
       "4                                                                   oneplus nord ce 2 lite 5g (black dusk, 6gb ram, 128gb storage)\n",
       "Name: #keywords, dtype: object"
      ]
     },
     "execution_count": 60,
     "metadata": {},
     "output_type": "execute_result"
    }
   ],
   "source": [
    "# converting name into lowercase\n",
    "# -> to maintain consistency which helps in avoiding duplication of items due to differences in case\n",
    "# -> reduces the complexity of text processing tasks such as tokenization, stemming\n",
    "electronics ['#keywords'] =  electronics['name'].str.lower()\n",
    "electronics['#keywords'].head()"
   ]
  },
  {
   "cell_type": "code",
   "execution_count": 61,
   "id": "ef4767a3",
   "metadata": {},
   "outputs": [
    {
     "name": "stderr",
     "output_type": "stream",
     "text": [
      "C:\\Users\\KIIT\\AppData\\Local\\Temp\\ipykernel_21968\\4156618647.py:2: FutureWarning: The default value of regex will change from True to False in a future version.\n",
      "  electronics['#keywords'] = electronics['#keywords'].str.replace('''[^\\w\\d\\s]''','')\n"
     ]
    },
    {
     "data": {
      "text/plain": [
       "0                                                                               redmi 10 power power black 8gb ram 128gb storage\n",
       "1                                                                      oneplus nord ce 2 lite 5g blue tide 6gb ram 128gb storage\n",
       "2          oneplus bullets z2 bluetooth wireless in ear earphones with mic bombastic bass  124 mm drivers 10 mins charge  20 hrs\n",
       "3            samsung galaxy m33 5g mystique green 6gb 128gb storage  6000mah battery  upto 12gb ram with ram plus  travel adapte\n",
       "4                                                                     oneplus nord ce 2 lite 5g black dusk 6gb ram 128gb storage\n",
       "                                                                  ...                                                           \n",
       "9595    palay bts backpack for boys kpop bts bangtan school backback for student with cable vent backpack travel bag backpack la\n",
       "9596     moca ipad air 5th generation case 2022  ipad air 4th 2020 case 109 inch slim stand hard back shell protective smart cov\n",
       "9597      zebronics zebsound bomb 5 tws v50 bluetooth truly wireless in ear earbuds with up to 22h backup flash connect splash p\n",
       "9598         linqs original nxp chip  waterproof nfc tag sticker set of 5  smartrac circus ntag213 chip  for all nfc phones  vin\n",
       "9599     pragati systems medium grain 24x36 inch 10 oz primed cotton pre stretched canvas with wooden frame for painting acs2436\n",
       "Name: #keywords, Length: 9600, dtype: object"
      ]
     },
     "execution_count": 61,
     "metadata": {},
     "output_type": "execute_result"
    }
   ],
   "source": [
    "# removing all non-alphanumeric, punctuations, whitespaces etc and replace it with empty str\n",
    "electronics['#keywords'] = electronics['#keywords'].str.replace('''[^\\w\\d\\s]''','')\n",
    "electronics['#keywords']"
   ]
  },
  {
   "cell_type": "code",
   "execution_count": 62,
   "id": "e1c5f899",
   "metadata": {},
   "outputs": [],
   "source": [
    "from nltk.stem.porter import PorterStemmer"
   ]
  },
  {
   "cell_type": "code",
   "execution_count": 63,
   "id": "db9b9582",
   "metadata": {},
   "outputs": [],
   "source": [
    "stemmer = PorterStemmer()"
   ]
  },
  {
   "cell_type": "code",
   "execution_count": 64,
   "id": "a4418cc4",
   "metadata": {},
   "outputs": [],
   "source": [
    "# reduce the words into their root/base form\n",
    "def stemming(text):\n",
    "    stemmer = PorterStemmer()\n",
    "    stemmed_words = [stemmer.stem(word) for word in text.split()]\n",
    "    return ' '.join(stemmed_words)\n"
   ]
  },
  {
   "cell_type": "code",
   "execution_count": 65,
   "id": "ae22a507",
   "metadata": {},
   "outputs": [
    {
     "data": {
      "text/plain": [
       "('running', 'runs', 'run')"
      ]
     },
     "execution_count": 65,
     "metadata": {},
     "output_type": "execute_result"
    }
   ],
   "source": [
    "import re\n",
    "'running', 'runs', 'run'"
   ]
  },
  {
   "cell_type": "code",
   "execution_count": 66,
   "id": "9c6c5245",
   "metadata": {},
   "outputs": [
    {
     "data": {
      "text/plain": [
       "'run run run'"
      ]
     },
     "execution_count": 66,
     "metadata": {},
     "output_type": "execute_result"
    }
   ],
   "source": [
    "text = \"running runs run\"\n",
    "stemming(text)"
   ]
  },
  {
   "cell_type": "code",
   "execution_count": 67,
   "id": "d933944a",
   "metadata": {},
   "outputs": [
    {
     "data": {
      "text/plain": [
       "0                                                                            redmi 10 power power black 8gb ram 128gb storag\n",
       "1                                                                    oneplu nord ce 2 lite 5g blue tide 6gb ram 128gb storag\n",
       "2                  oneplu bullet z2 bluetooth wireless in ear earphon with mic bombast bass 124 mm driver 10 min charg 20 hr\n",
       "3               samsung galaxi m33 5g mystiqu green 6gb 128gb storag 6000mah batteri upto 12gb ram with ram plu travel adapt\n",
       "4                                                                   oneplu nord ce 2 lite 5g black dusk 6gb ram 128gb storag\n",
       "                                                                ...                                                         \n",
       "9595    palay bt backpack for boy kpop bt bangtan school backback for student with cabl vent backpack travel bag backpack la\n",
       "9596          moca ipad air 5th gener case 2022 ipad air 4th 2020 case 109 inch slim stand hard back shell protect smart cov\n",
       "9597       zebron zebsound bomb 5 tw v50 bluetooth truli wireless in ear earbud with up to 22h backup flash connect splash p\n",
       "9598              linq origin nxp chip waterproof nfc tag sticker set of 5 smartrac circu ntag213 chip for all nfc phone vin\n",
       "9599         pragati system medium grain 24x36 inch 10 oz prime cotton pre stretch canva with wooden frame for paint acs2436\n",
       "Name: #keywords, Length: 9600, dtype: object"
      ]
     },
     "execution_count": 67,
     "metadata": {},
     "output_type": "execute_result"
    }
   ],
   "source": [
    "electronics['#keywords'] = electronics['#keywords'].apply(stemming)\n",
    "electronics['#keywords']"
   ]
  },
  {
   "cell_type": "code",
   "execution_count": 68,
   "id": "1f417dd4",
   "metadata": {},
   "outputs": [],
   "source": [
    "from sklearn.feature_extraction.text import CountVectorizer\n",
    "from sklearn.metrics.pairwise import cosine_similarity"
   ]
  },
  {
   "cell_type": "code",
   "execution_count": 69,
   "id": "22ae0ca4",
   "metadata": {},
   "outputs": [
    {
     "data": {
      "text/plain": [
       "CountVectorizer(dtype=<class 'numpy.int8'>, max_features=5000,\n",
       "                stop_words='english')"
      ]
     },
     "execution_count": 69,
     "metadata": {},
     "output_type": "execute_result"
    }
   ],
   "source": [
    "CV = CountVectorizer(max_features=5000,\n",
    "                     stop_words='english',\n",
    "                     dtype=np.int8)\n",
    "CV.fit(electronics['#keywords'])"
   ]
  },
  {
   "cell_type": "code",
   "execution_count": 70,
   "id": "ca6a5947",
   "metadata": {},
   "outputs": [
    {
     "name": "stdout",
     "output_type": "stream",
     "text": [
      "(9600, 5000)\n"
     ]
    }
   ],
   "source": [
    "vectors = CV.transform(electronics['#keywords']).toarray()\n",
    "print(vectors.shape)"
   ]
  },
  {
   "cell_type": "code",
   "execution_count": 71,
   "id": "61ce76a3",
   "metadata": {},
   "outputs": [],
   "source": [
    "similarity  = cosine_similarity(vectors)"
   ]
  },
  {
   "cell_type": "code",
   "execution_count": 72,
   "id": "31507379",
   "metadata": {},
   "outputs": [],
   "source": [
    "# releasing memory\n",
    "del(vectors) \n",
    "electronics.drop('#keywords',axis=1,inplace=True)"
   ]
  },
  {
   "cell_type": "code",
   "execution_count": 73,
   "id": "8145523a",
   "metadata": {},
   "outputs": [
    {
     "data": {
      "text/plain": [
       "(9600, 9600)"
      ]
     },
     "execution_count": 73,
     "metadata": {},
     "output_type": "execute_result"
    }
   ],
   "source": [
    "similarity.shape"
   ]
  },
  {
   "cell_type": "code",
   "execution_count": 74,
   "id": "7ca34276",
   "metadata": {},
   "outputs": [
    {
     "data": {
      "text/plain": [
       "array([1.        , 0.28603878, 0.07106691, ..., 0.        , 0.        ,\n",
       "       0.0836242 ])"
      ]
     },
     "execution_count": 74,
     "metadata": {},
     "output_type": "execute_result"
    }
   ],
   "source": [
    "similarity[0]"
   ]
  },
  {
   "cell_type": "code",
   "execution_count": 75,
   "id": "8e42c614",
   "metadata": {},
   "outputs": [
    {
     "data": {
      "text/plain": [
       "array([0.28603878, 1.        , 0.0745356 , ..., 0.        , 0.        ,\n",
       "       0.        ])"
      ]
     },
     "execution_count": 75,
     "metadata": {},
     "output_type": "execute_result"
    }
   ],
   "source": [
    "similarity[1]"
   ]
  },
  {
   "cell_type": "code",
   "execution_count": 76,
   "id": "ac815da2",
   "metadata": {},
   "outputs": [
    {
     "data": {
      "text/plain": [
       "8414    ONUMTZ Newly Launched Smart Watch Charging Cable, Watch Holder Magnetic 24k Gold Plated 2 pin Cable, Compatible with T55, ...\n",
       "2716    boAt Stone 620 Bluetooth Speaker with 12W RMS Stereo Sound, 10HRS Playtime, TWS Feature, IPX4, Multi-Compatibility Modes(G...\n",
       "1360    VIHM 7 in 1 Electronic Cleaner kit, Cleaning Kit for Monitor Keyboard Airpods MacBook iPad iPhone iPod, Screen Dust Brush ...\n",
       "1214    Apple Lightning to USB Camera Adapter, USB 3.0 OTG Cable for iPhone/iPad to Connect Card Reader, USB Flash Drive, U Disk, ...\n",
       "420     boAt Rockerz 335 Bluetooth in Ear Neckband with Qualcomm aptX & CVC, Upto 30 Hours Playback, ASAP Charge, Signature Sound,...\n",
       "9269    ENVOUS Newly Launched Fire Bolt Ring Smartwatch Charging Cable USB Fast Charger Magnetic Charging Cable Adapter (Charger o...\n",
       "1994    DIGITEK (DTR-320 FT) Flexible Gorillapod Tripod for All Cameras and Mobile Phones with 360° Ball Head and Phone Holder, Ma...\n",
       "5828            Lava A1 (Candy Blue), Number Talker, Smart AI Battery, 4 Days Battery Backup, Military Grade Certified, Keypad Mobile\n",
       "7166                                                                                         Kangaro Stapler DS 45L - Colour May Vary\n",
       "7544                                Sellingal Hard Disk Drive Pouch case for 2.5\" HDD Cover WD Seagate Slim Sony Dell Toshiba (Black)\n",
       "Name: name, dtype: object"
      ]
     },
     "execution_count": 76,
     "metadata": {},
     "output_type": "execute_result"
    }
   ],
   "source": [
    "pd.options.display.max_colwidth = 1000\n",
    "electronics['name'].sample(10,random_state=5)"
   ]
  },
  {
   "cell_type": "code",
   "execution_count": 77,
   "id": "161cfdc6",
   "metadata": {},
   "outputs": [
    {
     "data": {
      "text/plain": [
       "'ZEBRONICS Zeb-Bro in Ear Wired Earphones with Mic, 3.5mm Audio Jack, 10mm Drivers, Phone/Tablet Compatible(Blue)'"
      ]
     },
     "execution_count": 77,
     "metadata": {},
     "output_type": "execute_result"
    }
   ],
   "source": [
    "electronics['name'][99]"
   ]
  },
  {
   "cell_type": "code",
   "execution_count": 78,
   "id": "d70a0b7c",
   "metadata": {},
   "outputs": [
    {
     "data": {
      "text/html": [
       "<div>\n",
       "<style scoped>\n",
       "    .dataframe tbody tr th:only-of-type {\n",
       "        vertical-align: middle;\n",
       "    }\n",
       "\n",
       "    .dataframe tbody tr th {\n",
       "        vertical-align: top;\n",
       "    }\n",
       "\n",
       "    .dataframe thead th {\n",
       "        text-align: right;\n",
       "    }\n",
       "</style>\n",
       "<table border=\"1\" class=\"dataframe\">\n",
       "  <thead>\n",
       "    <tr style=\"text-align: right;\">\n",
       "      <th></th>\n",
       "      <th>name</th>\n",
       "      <th>image</th>\n",
       "      <th>link</th>\n",
       "      <th>ratings</th>\n",
       "      <th>no_of_ratings</th>\n",
       "      <th>discount_price</th>\n",
       "      <th>actual_price</th>\n",
       "    </tr>\n",
       "  </thead>\n",
       "  <tbody>\n",
       "    <tr>\n",
       "      <th>99</th>\n",
       "      <td>ZEBRONICS Zeb-Bro in Ear Wired Earphones with Mic, 3.5mm Audio Jack, 10mm Drivers, Phone/Tablet Compatible(Blue)</td>\n",
       "      <td>https://m.media-amazon.com/images/I/61+5q4oGJWL._AC_UL320_.jpg</td>\n",
       "      <td>https://www.amazon.in/ZEBRONICS-Zeb-Bro-Earphones-Drivers-Compatible/dp/B09R24HMNW/ref=sr_1_102?qid=1679133655&amp;s=electronics&amp;sr=1-102</td>\n",
       "      <td>3.5</td>\n",
       "      <td>24,675</td>\n",
       "      <td>₹149</td>\n",
       "      <td>₹399</td>\n",
       "    </tr>\n",
       "  </tbody>\n",
       "</table>\n",
       "</div>"
      ],
      "text/plain": [
       "                                                                                                                name  \\\n",
       "99  ZEBRONICS Zeb-Bro in Ear Wired Earphones with Mic, 3.5mm Audio Jack, 10mm Drivers, Phone/Tablet Compatible(Blue)   \n",
       "\n",
       "                                                             image  \\\n",
       "99  https://m.media-amazon.com/images/I/61+5q4oGJWL._AC_UL320_.jpg   \n",
       "\n",
       "                                                                                                                                     link  \\\n",
       "99  https://www.amazon.in/ZEBRONICS-Zeb-Bro-Earphones-Drivers-Compatible/dp/B09R24HMNW/ref=sr_1_102?qid=1679133655&s=electronics&sr=1-102   \n",
       "\n",
       "   ratings no_of_ratings discount_price actual_price  \n",
       "99     3.5        24,675           ₹149         ₹399  "
      ]
     },
     "execution_count": 78,
     "metadata": {},
     "output_type": "execute_result"
    }
   ],
   "source": [
    "product = 'ZEBRONICS Zeb-Bro in Ear Wired Earphones with Mic, 3.5mm Audio Jack, 10mm Drivers, Phone/Tablet Compatible(Blue)'\n",
    "electronics[electronics['name'] == product ]"
   ]
  },
  {
   "cell_type": "code",
   "execution_count": 79,
   "id": "3082cb62",
   "metadata": {},
   "outputs": [],
   "source": [
    "# 1. similarity -> creates a list of tuples where each tuple contains an index and a similarity score\n",
    "# 2. enumerate() function pairs each similarity score with its corresponding index\n",
    "# 3. sort similarity score in descending order & selects the top 5 most similar products excluding inp product itslef.\n",
    "# 4. display each similar product.\n",
    "\n",
    "def recommender(product):\n",
    "    \n",
    "    product_index = electronics[electronics['name'] == product].index[0]\n",
    "    similarity_list = list(enumerate(similarity[product_index]))\n",
    "    top_5_similar_product = sorted(similarity_list,key=lambda x:x[1],reverse=True)[1:6]\n",
    "    \n",
    "    for electronics_index, similiry in top_5_similar_product:\n",
    "        display(electronics.loc[electronics_index]['name'])"
   ]
  },
  {
   "cell_type": "code",
   "execution_count": 80,
   "id": "63467fb5",
   "metadata": {},
   "outputs": [
    {
     "name": "stdout",
     "output_type": "stream",
     "text": [
      "Enter the product name: ZEBRONICS Zeb-Bro in Ear Wired Earphones with Mic, 3.5mm Audio Jack, 10mm Drivers, Phone/Tablet Compatible(Blue)\n",
      "\n",
      "\n",
      "\u001b[1m                                               ::---Selected Product---::                                               \u001b[0m \n",
      "ZEBRONICS Zeb-Bro in Ear Wired Earphones with Mic, 3.5mm Audio Jack, 10mm Drivers, Phone/Tablet Compatible(Blue)\n",
      "\n",
      "\u001b[1m                                               ::---Recommendations---::                                                \u001b[0m\n"
     ]
    },
    {
     "data": {
      "text/plain": [
       "'ZEBRONICS Zeb-Bro in Ear Wired Earphones with Mic, 3.5mm Audio Jack, 10mm Drivers, Phone/Tablet Compatible(Green)'"
      ]
     },
     "metadata": {},
     "output_type": "display_data"
    },
    {
     "data": {
      "text/plain": [
       "'ZEBRONICS Zeb-Bro in Ear Wired Earphones with Mic, 3.5mm Audio Jack, 10mm Drivers, Phone/Tablet Compatible(Blue)'"
      ]
     },
     "metadata": {},
     "output_type": "display_data"
    },
    {
     "data": {
      "text/plain": [
       "'ZEBRONICS Zeb-Bro in Ear Wired Earphones with Mic, 3.5mm Audio Jack, 10mm Drivers, Phone/Tablet Compatible(Red)'"
      ]
     },
     "metadata": {},
     "output_type": "display_data"
    },
    {
     "data": {
      "text/plain": [
       "'ZEBRONICS Zeb-BRO PRO in Ear Wired Stereo Earphones with Mic, 3.5mm Audio Input Jack, 10mm Drivers, in-Line Mic, 1.2 Metre...'"
      ]
     },
     "metadata": {},
     "output_type": "display_data"
    },
    {
     "data": {
      "text/plain": [
       "'ZEBRONICS Zeb-BRO PRO in Ear Wired Stereo Earphones with Mic, 3.5mm Audio Input Jack, 10mm Drivers, in-Line Mic, 1.2 Metre...'"
      ]
     },
     "metadata": {},
     "output_type": "display_data"
    }
   ],
   "source": [
    "product = input(\"Enter the product name: \")\n",
    "\n",
    "print('\\n')\n",
    "print(\"\\033[1m\"+\"::---Selected Product---::\".center(120)+\"\\033[0m\",f'\\n{product}\\n')\n",
    "\n",
    "print(\"\\033[1m\"+\"::---Recommendations---::\".center(120)+\"\\033[0m\",)\n",
    "\n",
    "recommender(product)"
   ]
  },
  {
   "cell_type": "code",
   "execution_count": 81,
   "id": "1355b97c",
   "metadata": {},
   "outputs": [
    {
     "data": {
      "text/plain": [
       "6900                                      https://m.media-amazon.com/images/I/61dI6RzHuxS._AC_UL320_.jpg\n",
       "41                                        https://m.media-amazon.com/images/I/51zv+mozGgL._AC_UL320_.jpg\n",
       "1986                                      https://m.media-amazon.com/images/I/715w7oOSzBL._AC_UL320_.jpg\n",
       "2837    https://m.media-amazon.com/images/W/IMAGERENDERING_521856-T1/images/I/61J9BzebDnL._AC_UL320_.jpg\n",
       "6158                                      https://m.media-amazon.com/images/I/61ZYP1hZLfS._AC_UL320_.jpg\n",
       "6891                                      https://m.media-amazon.com/images/I/31-4Yxvu2nL._AC_UL320_.jpg\n",
       "225                                       https://m.media-amazon.com/images/I/51UnzgINvYL._AC_UL320_.jpg\n",
       "8466                                      https://m.media-amazon.com/images/I/51VfqgVd9cL._AC_UL320_.jpg\n",
       "4546    https://m.media-amazon.com/images/W/IMAGERENDERING_521856-T1/images/I/61jIVAPaaVL._AC_UL320_.jpg\n",
       "7962    https://m.media-amazon.com/images/W/IMAGERENDERING_521856-T2/images/I/81Z5m90cyUL._AC_UL320_.jpg\n",
       "9004    https://m.media-amazon.com/images/W/IMAGERENDERING_521856-T1/images/I/81sZUK4El5L._AC_UL320_.jpg\n",
       "7197                                      https://m.media-amazon.com/images/I/51RQtp1+dnL._AC_UL320_.jpg\n",
       "4238                                      https://m.media-amazon.com/images/I/51xAilgYeNL._AC_UL320_.jpg\n",
       "Name: image, dtype: object"
      ]
     },
     "execution_count": 81,
     "metadata": {},
     "output_type": "execute_result"
    }
   ],
   "source": [
    "electronics['image'].sample(13,random_state=6) "
   ]
  },
  {
   "cell_type": "code",
   "execution_count": 82,
   "id": "e188d791",
   "metadata": {},
   "outputs": [
    {
     "data": {
      "text/plain": [
       "0    https://m.media-amazon.com/images/I/81eM15lVcJL._AC_UL320_.jpg\n",
       "1    https://m.media-amazon.com/images/I/71AvQd3VzqL._AC_UL320_.jpg\n",
       "2    https://m.media-amazon.com/images/I/51UhwaQXCpL._AC_UL320_.jpg\n",
       "3    https://m.media-amazon.com/images/I/81I3w4J6yjL._AC_UL320_.jpg\n",
       "4    https://m.media-amazon.com/images/I/71V--WZVUIL._AC_UL320_.jpg\n",
       "5    https://m.media-amazon.com/images/I/81OZGH4fZiL._AC_UL320_.jpg\n",
       "6    https://m.media-amazon.com/images/I/51HBom8xz7L._AC_UL320_.jpg\n",
       "7    https://m.media-amazon.com/images/I/61vtLhO6fDL._AC_UL320_.jpg\n",
       "8    https://m.media-amazon.com/images/I/61S9aVnRZDL._AC_UL320_.jpg\n",
       "9    https://m.media-amazon.com/images/I/81lnKynSaqL._AC_UL320_.jpg\n",
       "Name: image, dtype: object"
      ]
     },
     "execution_count": 82,
     "metadata": {},
     "output_type": "execute_result"
    }
   ],
   "source": [
    "electronics['image'][0:10]"
   ]
  },
  {
   "cell_type": "code",
   "execution_count": 83,
   "id": "4ed308c8",
   "metadata": {},
   "outputs": [
    {
     "name": "stdout",
     "output_type": "stream",
     "text": [
      "9595    https://m.media-amazon.com/images/W/IMAGERENDERING_521856-T2/images/I/51WpV43F1ML._AC_UL320_.jpg\n",
      "9596    https://m.media-amazon.com/images/W/IMAGERENDERING_521856-T2/images/I/31lmoZ3XWQL._AC_UL320_.jpg\n",
      "9597    https://m.media-amazon.com/images/W/IMAGERENDERING_521856-T2/images/I/61O7fCXFipL._AC_UL320_.jpg\n",
      "9598    https://m.media-amazon.com/images/W/IMAGERENDERING_521856-T2/images/I/71Sg1Qsf+4L._AC_UL320_.jpg\n",
      "Name: image, dtype: object\n"
     ]
    }
   ],
   "source": [
    "def image_ID(url_series):\n",
    "    return url_series.split('images/')[-1]\n",
    "\n",
    "links = (electronics['image'].iloc[9595:9599])\n",
    "print(links)"
   ]
  },
  {
   "cell_type": "code",
   "execution_count": 84,
   "id": "a540131c",
   "metadata": {},
   "outputs": [
    {
     "data": {
      "text/plain": [
       "9595    https://m.media-amazon.com/images/I/51WpV43F1ML._AC_UL320_.jpg\n",
       "9596    https://m.media-amazon.com/images/I/31lmoZ3XWQL._AC_UL320_.jpg\n",
       "9597    https://m.media-amazon.com/images/I/61O7fCXFipL._AC_UL320_.jpg\n",
       "9598    https://m.media-amazon.com/images/I/71Sg1Qsf+4L._AC_UL320_.jpg\n",
       "Name: image, dtype: object"
      ]
     },
     "execution_count": 84,
     "metadata": {},
     "output_type": "execute_result"
    }
   ],
   "source": [
    "\"https://m.media-amazon.com/images/\" +links.apply(image_ID)"
   ]
  },
  {
   "cell_type": "code",
   "execution_count": 85,
   "id": "8d520424",
   "metadata": {},
   "outputs": [],
   "source": [
    "# Updated Function\n",
    "def image_ID(url_series):\n",
    "    return url_series.split('images/')[-1].split('._AC_UL320_.jpg')[0]"
   ]
  },
  {
   "cell_type": "code",
   "execution_count": 86,
   "id": "98c23b32",
   "metadata": {},
   "outputs": [
    {
     "data": {
      "text/plain": [
       "0       https://m.media-amazon.com/images/I/81eM15lVcJL._AC_UL800_.jpg\n",
       "1       https://m.media-amazon.com/images/I/71AvQd3VzqL._AC_UL800_.jpg\n",
       "2       https://m.media-amazon.com/images/I/51UhwaQXCpL._AC_UL800_.jpg\n",
       "3       https://m.media-amazon.com/images/I/81I3w4J6yjL._AC_UL800_.jpg\n",
       "4       https://m.media-amazon.com/images/I/71V--WZVUIL._AC_UL800_.jpg\n",
       "                                     ...                              \n",
       "9595    https://m.media-amazon.com/images/I/51WpV43F1ML._AC_UL800_.jpg\n",
       "9596    https://m.media-amazon.com/images/I/31lmoZ3XWQL._AC_UL800_.jpg\n",
       "9597    https://m.media-amazon.com/images/I/61O7fCXFipL._AC_UL800_.jpg\n",
       "9598    https://m.media-amazon.com/images/I/71Sg1Qsf+4L._AC_UL800_.jpg\n",
       "9599    https://m.media-amazon.com/images/I/81ozRRztszL._AC_UL800_.jpg\n",
       "Name: image, Length: 9600, dtype: object"
      ]
     },
     "execution_count": 86,
     "metadata": {},
     "output_type": "execute_result"
    }
   ],
   "source": [
    "\"https://m.media-amazon.com/images/\"+ electronics['image'].apply(image_ID)+ \"._AC_UL800_.jpg\""
   ]
  },
  {
   "cell_type": "code",
   "execution_count": 87,
   "id": "2d6c37aa",
   "metadata": {},
   "outputs": [],
   "source": [
    "electronics['Image url IDS'] = electronics['image'].apply(image_ID)"
   ]
  },
  {
   "cell_type": "code",
   "execution_count": 88,
   "id": "0084b1f2",
   "metadata": {},
   "outputs": [
    {
     "data": {
      "text/plain": [
       "823                   https://www.amazon.in/boAt-Rockerz-330ANC-Bluetooth-Cancellation/dp/B0B58F36CN/ref=sr_1_827?qid=1679133701&s=electronics&sr=1-827\n",
       "9131                   https://www.amazon.in/Quantum-USB-Transfer-Compatible-QHM7532/dp/B0BS16D6ZS/ref=sr_1_9134?qid=1679134211&s=electronics&sr=1-9134\n",
       "5548                             https://www.amazon.in/Cello-Technotip-Ball-Pen-Pack/dp/B07B9NZWVS/ref=sr_1_5551?qid=1679133998&s=electronics&sr=1-5551\n",
       "3743    https://www.amazon.in/Bose-QuietComfort-Cancelling-Personalized-Cancellation/dp/B0B4PSQHD5/ref=sr_1_3746?qid=1679133886&s=electronics&sr=1-3746\n",
       "7737                       https://www.amazon.in/Renewed-800-Desktop-2-5ghz-Ethernet/dp/B0BDYSRKJD/ref=sr_1_7740?qid=1679134128&s=electronics&sr=1-7740\n",
       "9083                             https://www.amazon.in/Apple-Watch-GPS-Cellular-40mm/dp/B09G99SW5B/ref=sr_1_9087?qid=1679134208&s=electronics&sr=1-9087\n",
       "5694                             https://www.amazon.in/Casio-CBC600-Carry-Case-Black/dp/B01L1TCRW2/ref=sr_1_5698?qid=1679134009&s=electronics&sr=1-5698\n",
       "6885             https://www.amazon.in/Dyazo-Memory-Foam-Mousepad-Suitable-Notebooks/dp/B09R7MCHYX/ref=sr_1_6888?qid=1679134078&s=electronics&sr=1-6888\n",
       "211                          https://www.amazon.in/Redmi-inches-Ready-L32M6-RA-Android/dp/B09F9YQQ7B/ref=sr_1_217?qid=1679133661&s=electronics&sr=1-217\n",
       "3764                 https://www.amazon.in/Bestor-Portable-Paperless-Digital-Writing/dp/B08CZHGHKH/ref=sr_1_3767?qid=1679133887&s=electronics&sr=1-3767\n",
       "Name: link, dtype: object"
      ]
     },
     "execution_count": 88,
     "metadata": {},
     "output_type": "execute_result"
    }
   ],
   "source": [
    "electronics['link'].sample(10) "
   ]
  },
  {
   "cell_type": "code",
   "execution_count": 89,
   "id": "61a6db71",
   "metadata": {},
   "outputs": [],
   "source": [
    "# remove this https://www.amazon.in/ to reduce data redundancy and size.\n",
    "def product_urls(url):\n",
    "    return url.split('https://www.amazon.in/')[-1]"
   ]
  },
  {
   "cell_type": "code",
   "execution_count": 90,
   "id": "92f3031a",
   "metadata": {},
   "outputs": [
    {
     "data": {
      "text/plain": [
       "0                            Redmi-Power-Black-128GB-Storage/dp/B09Y64H8VS/ref=sr_1_4?qid=1679133649&s=electronics&sr=1-4\n",
       "1                            OnePlus-Nord-Lite-128GB-Storage/dp/B09WQYFLRX/ref=sr_1_5?qid=1679133649&s=electronics&sr=1-5\n",
       "2             Oneplus-Bluetooth-Wireless-Earphones-Bombastic/dp/B09TVVGXWS/ref=sr_1_6?qid=1679133649&s=electronics&sr=1-6\n",
       "3              Samsung-Mystique-Storage-Purchased-Separately/dp/B09TWGDY4W/ref=sr_1_7?qid=1679133649&s=electronics&sr=1-7\n",
       "4                           OnePlus-Nord-Black-128GB-Storage/dp/B09WQY65HN/ref=sr_1_8?qid=1679133649&s=electronics&sr=1-8\n",
       "                                                              ...                                                        \n",
       "9595     PALAY%C2%AE-Backpack-Bangtan-Backback-Student/dp/B09XMFBMCR/ref=sr_1_9598?qid=1679134236&s=electronics&sr=1-9598\n",
       "9596       MOCA-Protective-Generation-Support-Charging/dp/B08SHY6FQV/ref=sr_1_9599?qid=1679134236&s=electronics&sr=1-9599\n",
       "9597    Zebronics-Zeb-Sound-Bluetooth-Wireless-Earbuds/dp/B09NNNLBVD/ref=sr_1_9600?qid=1679134236&s=electronics&sr=1-9600\n",
       "9598             LINQS-Sticker-Smartrac-Circus-NTAG213/dp/B011CD6OVM/ref=sr_1_9601?qid=1679134236&s=electronics&sr=1-9601\n",
       "9599        Pragati-Systems-Stretched-Painting-ACS2436/dp/B07PNWGXTF/ref=sr_1_9602?qid=1679134236&s=electronics&sr=1-9602\n",
       "Name: product Url Ids, Length: 9600, dtype: object"
      ]
     },
     "execution_count": 90,
     "metadata": {},
     "output_type": "execute_result"
    }
   ],
   "source": [
    "electronics['product Url Ids'] = np.array(electronics['link'].apply(product_urls))\n",
    "electronics['product Url Ids']"
   ]
  },
  {
   "cell_type": "code",
   "execution_count": 91,
   "id": "978d8290",
   "metadata": {},
   "outputs": [
    {
     "data": {
      "text/html": [
       "<div>\n",
       "<style scoped>\n",
       "    .dataframe tbody tr th:only-of-type {\n",
       "        vertical-align: middle;\n",
       "    }\n",
       "\n",
       "    .dataframe tbody tr th {\n",
       "        vertical-align: top;\n",
       "    }\n",
       "\n",
       "    .dataframe thead th {\n",
       "        text-align: right;\n",
       "    }\n",
       "</style>\n",
       "<table border=\"1\" class=\"dataframe\">\n",
       "  <thead>\n",
       "    <tr style=\"text-align: right;\">\n",
       "      <th></th>\n",
       "      <th>name</th>\n",
       "      <th>image</th>\n",
       "      <th>link</th>\n",
       "      <th>ratings</th>\n",
       "      <th>no_of_ratings</th>\n",
       "      <th>discount_price</th>\n",
       "      <th>actual_price</th>\n",
       "      <th>Image url IDS</th>\n",
       "      <th>product Url Ids</th>\n",
       "    </tr>\n",
       "  </thead>\n",
       "  <tbody>\n",
       "    <tr>\n",
       "      <th>29</th>\n",
       "      <td>Hammer Ace 3.0 Bluetooth Calling Smart Watch with Largest 1.85\" IPS Display, Dual Mode, Spo2, Heart Rate, Strong Metallic ...</td>\n",
       "      <td>https://m.media-amazon.com/images/I/61jQim6YPnL._AC_UL320_.jpg</td>\n",
       "      <td>https://www.amazon.in/Hammer-Ace-3-0-Bluetooth-Rotating/dp/B0BV6FVKSP/ref=sr_1_32?qid=1679133651&amp;s=electronics&amp;sr=1-32</td>\n",
       "      <td>Get</td>\n",
       "      <td>FREE Delivery by Amazon</td>\n",
       "      <td>₹1,499</td>\n",
       "      <td>₹4,999</td>\n",
       "      <td>I/61jQim6YPnL</td>\n",
       "      <td>Hammer-Ace-3-0-Bluetooth-Rotating/dp/B0BV6FVKSP/ref=sr_1_32?qid=1679133651&amp;s=electronics&amp;sr=1-32</td>\n",
       "    </tr>\n",
       "    <tr>\n",
       "      <th>72</th>\n",
       "      <td>Fire-Boltt Invincible Plus 1.43\" AMOLED Display Smartwatch with Bluetooth Calling, TWS Connection, 300+ Sports Modes, 110 ...</td>\n",
       "      <td>https://m.media-amazon.com/images/I/71dxFO2yAwL._AC_UL320_.jpg</td>\n",
       "      <td>https://www.amazon.in/Fire-Boltt-Invincible-Smartwatch-Bluetooth-Connection/dp/B0BRMWKZZN/ref=sr_1_75?qid=1679133654&amp;s=electronics&amp;sr=1-75</td>\n",
       "      <td>Get</td>\n",
       "      <td>FREE Delivery by Amazon</td>\n",
       "      <td>₹4,499</td>\n",
       "      <td>₹21,000</td>\n",
       "      <td>I/71dxFO2yAwL</td>\n",
       "      <td>Fire-Boltt-Invincible-Smartwatch-Bluetooth-Connection/dp/B0BRMWKZZN/ref=sr_1_75?qid=1679133654&amp;s=electronics&amp;sr=1-75</td>\n",
       "    </tr>\n",
       "    <tr>\n",
       "      <th>535</th>\n",
       "      <td>Fire-Boltt Invincible Plus 1.43\" AMOLED Display Smartwatch with Bluetooth Calling, TWS Connection, 300+ Sports Modes, 110 ...</td>\n",
       "      <td>https://m.media-amazon.com/images/I/61rJRgU2e5L._AC_UL320_.jpg</td>\n",
       "      <td>https://www.amazon.in/Fire-Boltt-Invincible-Smartwatch-Bluetooth-Connection/dp/B0BRMYRM8F/ref=sr_1_538?qid=1679133682&amp;s=electronics&amp;sr=1-538</td>\n",
       "      <td>Get</td>\n",
       "      <td>FREE Delivery by Amazon</td>\n",
       "      <td>₹4,499</td>\n",
       "      <td>₹21,000</td>\n",
       "      <td>I/61rJRgU2e5L</td>\n",
       "      <td>Fire-Boltt-Invincible-Smartwatch-Bluetooth-Connection/dp/B0BRMYRM8F/ref=sr_1_538?qid=1679133682&amp;s=electronics&amp;sr=1-538</td>\n",
       "    </tr>\n",
       "    <tr>\n",
       "      <th>538</th>\n",
       "      <td>Fire-Boltt Invincible Plus 1.43\" AMOLED Display Smartwatch with Bluetooth Calling, TWS Connection, 300+ Sports Modes, 110 ...</td>\n",
       "      <td>https://m.media-amazon.com/images/I/61GJzEhRrsL._AC_UL320_.jpg</td>\n",
       "      <td>https://www.amazon.in/Fire-Boltt-Invincible-Smartwatch-Bluetooth-Connection/dp/B0BRMYRG6M/ref=sr_1_541?qid=1679133682&amp;s=electronics&amp;sr=1-541</td>\n",
       "      <td>Get</td>\n",
       "      <td>FREE Delivery by Amazon</td>\n",
       "      <td>₹4,499</td>\n",
       "      <td>₹21,000</td>\n",
       "      <td>I/61GJzEhRrsL</td>\n",
       "      <td>Fire-Boltt-Invincible-Smartwatch-Bluetooth-Connection/dp/B0BRMYRG6M/ref=sr_1_541?qid=1679133682&amp;s=electronics&amp;sr=1-541</td>\n",
       "    </tr>\n",
       "    <tr>\n",
       "      <th>604</th>\n",
       "      <td>Fire-Boltt Invincible Plus 1.43\" AMOLED Display Smartwatch with Bluetooth Calling, TWS Connection, 300+ Sports Modes, 110 ...</td>\n",
       "      <td>https://m.media-amazon.com/images/I/61raZLNoTzL._AC_UL320_.jpg</td>\n",
       "      <td>https://www.amazon.in/Fire-Boltt-Invincible-Smartwatch-Bluetooth-Connection/dp/B0BRMY7DQ9/ref=sr_1_606?qid=1679133688&amp;s=electronics&amp;sr=1-606</td>\n",
       "      <td>Get</td>\n",
       "      <td>FREE Delivery by Amazon</td>\n",
       "      <td>₹4,499</td>\n",
       "      <td>₹21,000</td>\n",
       "      <td>I/61raZLNoTzL</td>\n",
       "      <td>Fire-Boltt-Invincible-Smartwatch-Bluetooth-Connection/dp/B0BRMY7DQ9/ref=sr_1_606?qid=1679133688&amp;s=electronics&amp;sr=1-606</td>\n",
       "    </tr>\n",
       "    <tr>\n",
       "      <th>...</th>\n",
       "      <td>...</td>\n",
       "      <td>...</td>\n",
       "      <td>...</td>\n",
       "      <td>...</td>\n",
       "      <td>...</td>\n",
       "      <td>...</td>\n",
       "      <td>...</td>\n",
       "      <td>...</td>\n",
       "      <td>...</td>\n",
       "    </tr>\n",
       "    <tr>\n",
       "      <th>9059</th>\n",
       "      <td>Fast C-Type Charger for OPPO F17 Pro Charger Original Adapter Like Wall Charger | Mobile Charger | Qualcomm QC 3.0 Quick C...</td>\n",
       "      <td>https://m.media-amazon.com/images/I/51GTRsMp-pL._AC_UL320_.jpg</td>\n",
       "      <td>https://www.amazon.in/OPPO-F17-Pro-Original-Qualcomm/dp/B0BN5NNMLB/ref=sr_1_9062?qid=1679134206&amp;s=electronics&amp;sr=1-9062</td>\n",
       "      <td>NaN</td>\n",
       "      <td>NaN</td>\n",
       "      <td>₹495</td>\n",
       "      <td>₹1,249</td>\n",
       "      <td>I/51GTRsMp-pL</td>\n",
       "      <td>OPPO-F17-Pro-Original-Qualcomm/dp/B0BN5NNMLB/ref=sr_1_9062?qid=1679134206&amp;s=electronics&amp;sr=1-9062</td>\n",
       "    </tr>\n",
       "    <tr>\n",
       "      <th>9188</th>\n",
       "      <td>Nick jones Mobile Phone Chest Strap Mount GoPro Chest Harness Holder for VLOG/POV Compatible with All Cell Phones and GoPr...</td>\n",
       "      <td>https://m.media-amazon.com/images/W/IMAGERENDERING_521856-T1/images/I/61h0BY2w-EL._AC_UL320_.jpg</td>\n",
       "      <td>https://www.amazon.in/Nick-jones-Mobile-Harness-Compatible/dp/B0BVW41PWF/ref=sr_1_9191?qid=1679134213&amp;s=electronics&amp;sr=1-9191</td>\n",
       "      <td>NaN</td>\n",
       "      <td>NaN</td>\n",
       "      <td>₹388</td>\n",
       "      <td>₹799</td>\n",
       "      <td>I/61h0BY2w-EL</td>\n",
       "      <td>Nick-jones-Mobile-Harness-Compatible/dp/B0BVW41PWF/ref=sr_1_9191?qid=1679134213&amp;s=electronics&amp;sr=1-9191</td>\n",
       "    </tr>\n",
       "    <tr>\n",
       "      <th>9472</th>\n",
       "      <td>OnePlus 2 in 1 Type C and Micro OTG Male to USB A 3.0 Female High Speed Data Transfer for Laptop Mobiles Tablet Smartphone...</td>\n",
       "      <td>https://m.media-amazon.com/images/I/61oo16eV5mL._AC_UL320_.jpg</td>\n",
       "      <td>https://www.amazon.in/OnePlus-Transfer-Smartphone-Compatible-Connector/dp/B0BXJVTDDV/ref=sr_1_9475?qid=1679134229&amp;s=electronics&amp;sr=1-9475</td>\n",
       "      <td>NaN</td>\n",
       "      <td>NaN</td>\n",
       "      <td>₹199</td>\n",
       "      <td>₹999</td>\n",
       "      <td>I/61oo16eV5mL</td>\n",
       "      <td>OnePlus-Transfer-Smartphone-Compatible-Connector/dp/B0BXJVTDDV/ref=sr_1_9475?qid=1679134229&amp;s=electronics&amp;sr=1-9475</td>\n",
       "    </tr>\n",
       "    <tr>\n",
       "      <th>9482</th>\n",
       "      <td>Onsitego 2 Year Extended Warranty for Small Household Appliances from Rs. 9001-10000 (Email Delivery - No Physical Kit)</td>\n",
       "      <td>https://m.media-amazon.com/images/I/616x8UGLiIL._AC_UL320_.jpg</td>\n",
       "      <td>https://www.amazon.in/Onsitego-Extended-Household-Appliances-9001-10000/dp/B0BVQM763T/ref=sr_1_9485?qid=1679134231&amp;s=electronics&amp;sr=1-9485</td>\n",
       "      <td>NaN</td>\n",
       "      <td>NaN</td>\n",
       "      <td>₹649</td>\n",
       "      <td>₹1,299</td>\n",
       "      <td>I/616x8UGLiIL</td>\n",
       "      <td>Onsitego-Extended-Household-Appliances-9001-10000/dp/B0BVQM763T/ref=sr_1_9485?qid=1679134231&amp;s=electronics&amp;sr=1-9485</td>\n",
       "    </tr>\n",
       "    <tr>\n",
       "      <th>9541</th>\n",
       "      <td>Samsung Galaxy F23 5G Charger PD [Compatible] with Samsung Galaxy F23 / Samsung Galaxy F23 5G Fast Charger Original Adapte...</td>\n",
       "      <td>https://m.media-amazon.com/images/W/IMAGERENDERING_521856-T2/images/I/51ypBpy+xZL._AC_UL320_.jpg</td>\n",
       "      <td>https://www.amazon.in/Samsung-Charger-Compatible-Original-Adapter/dp/B0BX96NCYT/ref=sr_1_9544?qid=1679134233&amp;s=electronics&amp;sr=1-9544</td>\n",
       "      <td>NaN</td>\n",
       "      <td>NaN</td>\n",
       "      <td>NaN</td>\n",
       "      <td>₹499</td>\n",
       "      <td>I/51ypBpy+xZL</td>\n",
       "      <td>Samsung-Charger-Compatible-Original-Adapter/dp/B0BX96NCYT/ref=sr_1_9544?qid=1679134233&amp;s=electronics&amp;sr=1-9544</td>\n",
       "    </tr>\n",
       "  </tbody>\n",
       "</table>\n",
       "<p>9600 rows × 9 columns</p>\n",
       "</div>"
      ],
      "text/plain": [
       "                                                                                                                               name  \\\n",
       "29    Hammer Ace 3.0 Bluetooth Calling Smart Watch with Largest 1.85\" IPS Display, Dual Mode, Spo2, Heart Rate, Strong Metallic ...   \n",
       "72    Fire-Boltt Invincible Plus 1.43\" AMOLED Display Smartwatch with Bluetooth Calling, TWS Connection, 300+ Sports Modes, 110 ...   \n",
       "535   Fire-Boltt Invincible Plus 1.43\" AMOLED Display Smartwatch with Bluetooth Calling, TWS Connection, 300+ Sports Modes, 110 ...   \n",
       "538   Fire-Boltt Invincible Plus 1.43\" AMOLED Display Smartwatch with Bluetooth Calling, TWS Connection, 300+ Sports Modes, 110 ...   \n",
       "604   Fire-Boltt Invincible Plus 1.43\" AMOLED Display Smartwatch with Bluetooth Calling, TWS Connection, 300+ Sports Modes, 110 ...   \n",
       "...                                                                                                                             ...   \n",
       "9059  Fast C-Type Charger for OPPO F17 Pro Charger Original Adapter Like Wall Charger | Mobile Charger | Qualcomm QC 3.0 Quick C...   \n",
       "9188  Nick jones Mobile Phone Chest Strap Mount GoPro Chest Harness Holder for VLOG/POV Compatible with All Cell Phones and GoPr...   \n",
       "9472  OnePlus 2 in 1 Type C and Micro OTG Male to USB A 3.0 Female High Speed Data Transfer for Laptop Mobiles Tablet Smartphone...   \n",
       "9482        Onsitego 2 Year Extended Warranty for Small Household Appliances from Rs. 9001-10000 (Email Delivery - No Physical Kit)   \n",
       "9541  Samsung Galaxy F23 5G Charger PD [Compatible] with Samsung Galaxy F23 / Samsung Galaxy F23 5G Fast Charger Original Adapte...   \n",
       "\n",
       "                                                                                                 image  \\\n",
       "29                                      https://m.media-amazon.com/images/I/61jQim6YPnL._AC_UL320_.jpg   \n",
       "72                                      https://m.media-amazon.com/images/I/71dxFO2yAwL._AC_UL320_.jpg   \n",
       "535                                     https://m.media-amazon.com/images/I/61rJRgU2e5L._AC_UL320_.jpg   \n",
       "538                                     https://m.media-amazon.com/images/I/61GJzEhRrsL._AC_UL320_.jpg   \n",
       "604                                     https://m.media-amazon.com/images/I/61raZLNoTzL._AC_UL320_.jpg   \n",
       "...                                                                                                ...   \n",
       "9059                                    https://m.media-amazon.com/images/I/51GTRsMp-pL._AC_UL320_.jpg   \n",
       "9188  https://m.media-amazon.com/images/W/IMAGERENDERING_521856-T1/images/I/61h0BY2w-EL._AC_UL320_.jpg   \n",
       "9472                                    https://m.media-amazon.com/images/I/61oo16eV5mL._AC_UL320_.jpg   \n",
       "9482                                    https://m.media-amazon.com/images/I/616x8UGLiIL._AC_UL320_.jpg   \n",
       "9541  https://m.media-amazon.com/images/W/IMAGERENDERING_521856-T2/images/I/51ypBpy+xZL._AC_UL320_.jpg   \n",
       "\n",
       "                                                                                                                                              link  \\\n",
       "29                          https://www.amazon.in/Hammer-Ace-3-0-Bluetooth-Rotating/dp/B0BV6FVKSP/ref=sr_1_32?qid=1679133651&s=electronics&sr=1-32   \n",
       "72      https://www.amazon.in/Fire-Boltt-Invincible-Smartwatch-Bluetooth-Connection/dp/B0BRMWKZZN/ref=sr_1_75?qid=1679133654&s=electronics&sr=1-75   \n",
       "535   https://www.amazon.in/Fire-Boltt-Invincible-Smartwatch-Bluetooth-Connection/dp/B0BRMYRM8F/ref=sr_1_538?qid=1679133682&s=electronics&sr=1-538   \n",
       "538   https://www.amazon.in/Fire-Boltt-Invincible-Smartwatch-Bluetooth-Connection/dp/B0BRMYRG6M/ref=sr_1_541?qid=1679133682&s=electronics&sr=1-541   \n",
       "604   https://www.amazon.in/Fire-Boltt-Invincible-Smartwatch-Bluetooth-Connection/dp/B0BRMY7DQ9/ref=sr_1_606?qid=1679133688&s=electronics&sr=1-606   \n",
       "...                                                                                                                                            ...   \n",
       "9059                       https://www.amazon.in/OPPO-F17-Pro-Original-Qualcomm/dp/B0BN5NNMLB/ref=sr_1_9062?qid=1679134206&s=electronics&sr=1-9062   \n",
       "9188                 https://www.amazon.in/Nick-jones-Mobile-Harness-Compatible/dp/B0BVW41PWF/ref=sr_1_9191?qid=1679134213&s=electronics&sr=1-9191   \n",
       "9472     https://www.amazon.in/OnePlus-Transfer-Smartphone-Compatible-Connector/dp/B0BXJVTDDV/ref=sr_1_9475?qid=1679134229&s=electronics&sr=1-9475   \n",
       "9482    https://www.amazon.in/Onsitego-Extended-Household-Appliances-9001-10000/dp/B0BVQM763T/ref=sr_1_9485?qid=1679134231&s=electronics&sr=1-9485   \n",
       "9541          https://www.amazon.in/Samsung-Charger-Compatible-Original-Adapter/dp/B0BX96NCYT/ref=sr_1_9544?qid=1679134233&s=electronics&sr=1-9544   \n",
       "\n",
       "     ratings            no_of_ratings discount_price actual_price  \\\n",
       "29       Get  FREE Delivery by Amazon         ₹1,499       ₹4,999   \n",
       "72       Get  FREE Delivery by Amazon         ₹4,499      ₹21,000   \n",
       "535      Get  FREE Delivery by Amazon         ₹4,499      ₹21,000   \n",
       "538      Get  FREE Delivery by Amazon         ₹4,499      ₹21,000   \n",
       "604      Get  FREE Delivery by Amazon         ₹4,499      ₹21,000   \n",
       "...      ...                      ...            ...          ...   \n",
       "9059     NaN                      NaN           ₹495       ₹1,249   \n",
       "9188     NaN                      NaN           ₹388         ₹799   \n",
       "9472     NaN                      NaN           ₹199         ₹999   \n",
       "9482     NaN                      NaN           ₹649       ₹1,299   \n",
       "9541     NaN                      NaN            NaN         ₹499   \n",
       "\n",
       "      Image url IDS  \\\n",
       "29    I/61jQim6YPnL   \n",
       "72    I/71dxFO2yAwL   \n",
       "535   I/61rJRgU2e5L   \n",
       "538   I/61GJzEhRrsL   \n",
       "604   I/61raZLNoTzL   \n",
       "...             ...   \n",
       "9059  I/51GTRsMp-pL   \n",
       "9188  I/61h0BY2w-EL   \n",
       "9472  I/61oo16eV5mL   \n",
       "9482  I/616x8UGLiIL   \n",
       "9541  I/51ypBpy+xZL   \n",
       "\n",
       "                                                                                                             product Url Ids  \n",
       "29                          Hammer-Ace-3-0-Bluetooth-Rotating/dp/B0BV6FVKSP/ref=sr_1_32?qid=1679133651&s=electronics&sr=1-32  \n",
       "72      Fire-Boltt-Invincible-Smartwatch-Bluetooth-Connection/dp/B0BRMWKZZN/ref=sr_1_75?qid=1679133654&s=electronics&sr=1-75  \n",
       "535   Fire-Boltt-Invincible-Smartwatch-Bluetooth-Connection/dp/B0BRMYRM8F/ref=sr_1_538?qid=1679133682&s=electronics&sr=1-538  \n",
       "538   Fire-Boltt-Invincible-Smartwatch-Bluetooth-Connection/dp/B0BRMYRG6M/ref=sr_1_541?qid=1679133682&s=electronics&sr=1-541  \n",
       "604   Fire-Boltt-Invincible-Smartwatch-Bluetooth-Connection/dp/B0BRMY7DQ9/ref=sr_1_606?qid=1679133688&s=electronics&sr=1-606  \n",
       "...                                                                                                                      ...  \n",
       "9059                       OPPO-F17-Pro-Original-Qualcomm/dp/B0BN5NNMLB/ref=sr_1_9062?qid=1679134206&s=electronics&sr=1-9062  \n",
       "9188                 Nick-jones-Mobile-Harness-Compatible/dp/B0BVW41PWF/ref=sr_1_9191?qid=1679134213&s=electronics&sr=1-9191  \n",
       "9472     OnePlus-Transfer-Smartphone-Compatible-Connector/dp/B0BXJVTDDV/ref=sr_1_9475?qid=1679134229&s=electronics&sr=1-9475  \n",
       "9482    Onsitego-Extended-Household-Appliances-9001-10000/dp/B0BVQM763T/ref=sr_1_9485?qid=1679134231&s=electronics&sr=1-9485  \n",
       "9541          Samsung-Charger-Compatible-Original-Adapter/dp/B0BX96NCYT/ref=sr_1_9544?qid=1679134233&s=electronics&sr=1-9544  \n",
       "\n",
       "[9600 rows x 9 columns]"
      ]
     },
     "execution_count": 91,
     "metadata": {},
     "output_type": "execute_result"
    }
   ],
   "source": [
    "electronics.sort_values(by=['ratings','no_of_ratings'],ascending=False)"
   ]
  },
  {
   "cell_type": "code",
   "execution_count": 92,
   "id": "004427e4",
   "metadata": {},
   "outputs": [],
   "source": [
    "# data cleaning\n",
    "# remove all non-digit char from this columns\n",
    "# ->  columns contain only numeric values, for numerical operations and analysis. \n",
    "electronics['no_of_ratings_cleaned'] = electronics['no_of_ratings'].str.replace('[^\\d]','',regex=True)\n",
    "electronics['ratings_cleaned'] = electronics['ratings'].str.replace('[^\\d]','',regex=True)\n",
    "electronics['discount_price_cleaned'] = electronics['discount_price'].str.replace('[^\\d]','',regex=True)\n",
    "electronics['actual_price_cleaned'] = electronics['actual_price'].str.replace('[^\\d]','',regex=True)\n",
    "\n",
    "# data type conversion\n",
    "# convert cleaned columns to  numeric data type \n",
    "# coerce -> handle conversion error if value cannot converted into numeric it replace with nan\n",
    "electronics['no_of_ratings_cleaned'] = pd.to_numeric(electronics['no_of_ratings_cleaned'],errors='coerce')\n",
    "electronics['ratings_cleaned'] = pd.to_numeric(electronics['ratings_cleaned'],errors='coerce',)/10\n",
    "electronics['actual_price_cleaned'] = pd.to_numeric(electronics['actual_price_cleaned'],errors='coerce')\n",
    "electronics['discount_price_cleaned'] = pd.to_numeric(electronics['discount_price_cleaned'],errors='coerce')"
   ]
  },
  {
   "cell_type": "code",
   "execution_count": 93,
   "id": "9ae1d180",
   "metadata": {},
   "outputs": [
    {
     "data": {
      "text/plain": [
       "Int64Index([   1,    3,    4,    9,   12,   30,   86,   95,   97,  125,  144,\n",
       "             153,  159,  163,  177,  211,  212,  219,  239,  242,  266,  267,\n",
       "             270,  278,  299,  307,  320,  336,  339,  346,  359,  360,  372,\n",
       "             377,  398,  417,  418,  442,  460,  468,  475,  536,  539,  542,\n",
       "             582,  639,  640,  678,  688,  696,  700,  702,  717,  718,  726,\n",
       "             739,  765,  788,  828,  868,  891,  915,  919,  944,  947,  980,\n",
       "             983,  985,  995, 1026, 1036, 1096, 1132, 1138, 1142, 1168, 1185,\n",
       "            1212, 1276, 1305, 1323, 1328, 1378, 1405, 1409, 1412, 1453, 1483,\n",
       "            1592, 1658, 1669, 1710, 1728, 1729, 1775, 1787, 1798, 1800, 1812,\n",
       "            1821],\n",
       "           dtype='int64')"
      ]
     },
     "execution_count": 93,
     "metadata": {},
     "output_type": "execute_result"
    }
   ],
   "source": [
    "top_100_product_index = electronics[(electronics['no_of_ratings_cleaned']>1000) & (electronics['discount_price_cleaned']>10000) &( (electronics['ratings_cleaned']>4))].dropna().iloc[0:100].index\n",
    "top_100_product_index"
   ]
  },
  {
   "cell_type": "code",
   "execution_count": null,
   "id": "1f78c954",
   "metadata": {},
   "outputs": [],
   "source": []
  },
  {
   "cell_type": "code",
   "execution_count": 94,
   "id": "11d8fdda",
   "metadata": {},
   "outputs": [],
   "source": [
    "top_10_similarites_matrix = []\n",
    "for product_index in range(100):\n",
    "    similarity_list = list(enumerate(similarity[product_index]))\n",
    "    # sort similarity_list based on similarity score\n",
    "    top_10_similar_product = sorted(similarity_list,key=lambda x:x[1],reverse=True)[1:11]\n",
    "    \"\"\"appending index of top 10 similar product to top_10_similarity_matrix \"\"\"\n",
    "    top_10_similarites_matrix.append(list(map(lambda x:x[0], top_10_similar_product)))"
   ]
  },
  {
   "cell_type": "code",
   "execution_count": null,
   "id": "39da2c28",
   "metadata": {},
   "outputs": [],
   "source": []
  },
  {
   "cell_type": "code",
   "execution_count": 95,
   "id": "c2dc07e2",
   "metadata": {},
   "outputs": [],
   "source": [
    "def recommender(product,product_name_list,similarity_metrix):\n",
    "    product_idx = product_name_list[product_name_list==product].index[0]\n",
    "    return  similarity_metrix[product_idx]"
   ]
  },
  {
   "cell_type": "code",
   "execution_count": 96,
   "id": "0b7dd3a9",
   "metadata": {},
   "outputs": [
    {
     "data": {
      "text/html": [
       "<div>\n",
       "<style scoped>\n",
       "    .dataframe tbody tr th:only-of-type {\n",
       "        vertical-align: middle;\n",
       "    }\n",
       "\n",
       "    .dataframe tbody tr th {\n",
       "        vertical-align: top;\n",
       "    }\n",
       "\n",
       "    .dataframe thead th {\n",
       "        text-align: right;\n",
       "    }\n",
       "</style>\n",
       "<table border=\"1\" class=\"dataframe\">\n",
       "  <thead>\n",
       "    <tr style=\"text-align: right;\">\n",
       "      <th></th>\n",
       "      <th>name</th>\n",
       "      <th>image</th>\n",
       "      <th>link</th>\n",
       "      <th>ratings</th>\n",
       "      <th>no_of_ratings</th>\n",
       "      <th>discount_price</th>\n",
       "      <th>actual_price</th>\n",
       "      <th>Image url IDS</th>\n",
       "      <th>product Url Ids</th>\n",
       "      <th>no_of_ratings_cleaned</th>\n",
       "      <th>ratings_cleaned</th>\n",
       "      <th>discount_price_cleaned</th>\n",
       "      <th>actual_price_cleaned</th>\n",
       "    </tr>\n",
       "  </thead>\n",
       "  <tbody>\n",
       "    <tr>\n",
       "      <th>92</th>\n",
       "      <td>ZEBRONICS Zeb-Bro in Ear Wired Earphones with Mic, 3.5mm Audio Jack, 10mm Drivers, Phone/Tablet Compatible(Green)</td>\n",
       "      <td>https://m.media-amazon.com/images/I/61+0KSoFrOL._AC_UL320_.jpg</td>\n",
       "      <td>https://www.amazon.in/ZEBRONICS-Zeb-Bro-Earphones-Compatible-Green/dp/B09R24JBYV/ref=sr_1_95?qid=1679133654&amp;s=electronics&amp;sr=1-95</td>\n",
       "      <td>3.5</td>\n",
       "      <td>24,675</td>\n",
       "      <td>₹149</td>\n",
       "      <td>₹399</td>\n",
       "      <td>I/61+0KSoFrOL</td>\n",
       "      <td>ZEBRONICS-Zeb-Bro-Earphones-Compatible-Green/dp/B09R24JBYV/ref=sr_1_95?qid=1679133654&amp;s=electronics&amp;sr=1-95</td>\n",
       "      <td>24675.0</td>\n",
       "      <td>3.5</td>\n",
       "      <td>149.0</td>\n",
       "      <td>399.0</td>\n",
       "    </tr>\n",
       "    <tr>\n",
       "      <th>99</th>\n",
       "      <td>ZEBRONICS Zeb-Bro in Ear Wired Earphones with Mic, 3.5mm Audio Jack, 10mm Drivers, Phone/Tablet Compatible(Blue)</td>\n",
       "      <td>https://m.media-amazon.com/images/I/61+5q4oGJWL._AC_UL320_.jpg</td>\n",
       "      <td>https://www.amazon.in/ZEBRONICS-Zeb-Bro-Earphones-Drivers-Compatible/dp/B09R24HMNW/ref=sr_1_102?qid=1679133655&amp;s=electronics&amp;sr=1-102</td>\n",
       "      <td>3.5</td>\n",
       "      <td>24,675</td>\n",
       "      <td>₹149</td>\n",
       "      <td>₹399</td>\n",
       "      <td>I/61+5q4oGJWL</td>\n",
       "      <td>ZEBRONICS-Zeb-Bro-Earphones-Drivers-Compatible/dp/B09R24HMNW/ref=sr_1_102?qid=1679133655&amp;s=electronics&amp;sr=1-102</td>\n",
       "      <td>24675.0</td>\n",
       "      <td>3.5</td>\n",
       "      <td>149.0</td>\n",
       "      <td>399.0</td>\n",
       "    </tr>\n",
       "    <tr>\n",
       "      <th>626</th>\n",
       "      <td>ZEBRONICS Zeb-Bro in Ear Wired Earphones with Mic, 3.5mm Audio Jack, 10mm Drivers, Phone/Tablet Compatible(Red)</td>\n",
       "      <td>https://m.media-amazon.com/images/I/61jv8Sj964L._AC_UL320_.jpg</td>\n",
       "      <td>https://www.amazon.in/ZEBRONICS-Zeb-Bro-Earphones-Drivers-Compatible/dp/B09PV1DFNJ/ref=sr_1_629?qid=1679133689&amp;s=electronics&amp;sr=1-629</td>\n",
       "      <td>3.5</td>\n",
       "      <td>24,675</td>\n",
       "      <td>₹149</td>\n",
       "      <td>₹399</td>\n",
       "      <td>I/61jv8Sj964L</td>\n",
       "      <td>ZEBRONICS-Zeb-Bro-Earphones-Drivers-Compatible/dp/B09PV1DFNJ/ref=sr_1_629?qid=1679133689&amp;s=electronics&amp;sr=1-629</td>\n",
       "      <td>24675.0</td>\n",
       "      <td>3.5</td>\n",
       "      <td>149.0</td>\n",
       "      <td>399.0</td>\n",
       "    </tr>\n",
       "    <tr>\n",
       "      <th>2661</th>\n",
       "      <td>ZEBRONICS Zeb-BRO PRO in Ear Wired Stereo Earphones with Mic, 3.5mm Audio Input Jack, 10mm Drivers, in-Line Mic, 1.2 Metre...</td>\n",
       "      <td>https://m.media-amazon.com/images/W/IMAGERENDERING_521856-T2/images/I/61IPq8Xf-SS._AC_UL320_.jpg</td>\n",
       "      <td>https://www.amazon.in/ZEBRONICS-Zeb-BRO-PRO-Earphones-Blue/dp/B08V95WWGN/ref=sr_1_2664?qid=1679133820&amp;s=electronics&amp;sr=1-2664</td>\n",
       "      <td>3.6</td>\n",
       "      <td>658</td>\n",
       "      <td>₹199</td>\n",
       "      <td>₹449</td>\n",
       "      <td>I/61IPq8Xf-SS</td>\n",
       "      <td>ZEBRONICS-Zeb-BRO-PRO-Earphones-Blue/dp/B08V95WWGN/ref=sr_1_2664?qid=1679133820&amp;s=electronics&amp;sr=1-2664</td>\n",
       "      <td>658.0</td>\n",
       "      <td>3.6</td>\n",
       "      <td>199.0</td>\n",
       "      <td>449.0</td>\n",
       "    </tr>\n",
       "    <tr>\n",
       "      <th>5695</th>\n",
       "      <td>ZEBRONICS Zeb-BRO PRO in Ear Wired Stereo Earphones with Mic, 3.5mm Audio Input Jack, 10mm Drivers, in-Line Mic, 1.2 Metre...</td>\n",
       "      <td>https://m.media-amazon.com/images/I/61GwO7o3iqS._AC_UL320_.jpg</td>\n",
       "      <td>https://www.amazon.in/ZEBRONICS-Zeb-BRO-PRO-Earphones-Black/dp/B08V561XJY/ref=sr_1_5699?qid=1679134009&amp;s=electronics&amp;sr=1-5699</td>\n",
       "      <td>3.6</td>\n",
       "      <td>658</td>\n",
       "      <td>₹199</td>\n",
       "      <td>₹449</td>\n",
       "      <td>I/61GwO7o3iqS</td>\n",
       "      <td>ZEBRONICS-Zeb-BRO-PRO-Earphones-Black/dp/B08V561XJY/ref=sr_1_5699?qid=1679134009&amp;s=electronics&amp;sr=1-5699</td>\n",
       "      <td>658.0</td>\n",
       "      <td>3.6</td>\n",
       "      <td>199.0</td>\n",
       "      <td>449.0</td>\n",
       "    </tr>\n",
       "    <tr>\n",
       "      <th>6660</th>\n",
       "      <td>ZEBRONICS Zeb-BRO PRO in Ear Wired Stereo Earphones with Mic, 3.5mm Audio Input Jack, 10mm Drivers, in-Line Mic, 1.2 Metre...</td>\n",
       "      <td>https://m.media-amazon.com/images/I/61k+T6bn2eS._AC_UL320_.jpg</td>\n",
       "      <td>https://www.amazon.in/Zebronics-Zeb-BRO-PRO-Earphones-Green/dp/B08V8J16RK/ref=sr_1_6663?qid=1679134066&amp;s=electronics&amp;sr=1-6663</td>\n",
       "      <td>3.6</td>\n",
       "      <td>658</td>\n",
       "      <td>₹199</td>\n",
       "      <td>₹449</td>\n",
       "      <td>I/61k+T6bn2eS</td>\n",
       "      <td>Zebronics-Zeb-BRO-PRO-Earphones-Green/dp/B08V8J16RK/ref=sr_1_6663?qid=1679134066&amp;s=electronics&amp;sr=1-6663</td>\n",
       "      <td>658.0</td>\n",
       "      <td>3.6</td>\n",
       "      <td>199.0</td>\n",
       "      <td>449.0</td>\n",
       "    </tr>\n",
       "    <tr>\n",
       "      <th>111</th>\n",
       "      <td>OnePlus Nord Wired Earphones with mic, 3.5mm Audio Jack, Enhanced bass with 9.2mm Dynamic Drivers, in-Ear Wired Earphone -...</td>\n",
       "      <td>https://m.media-amazon.com/images/I/51Kb3NDy1AL._AC_UL320_.jpg</td>\n",
       "      <td>https://www.amazon.in/OnePlus-Earphones-Enhanced-Dynamic-Earphone/dp/B0B937R948/ref=sr_1_114?qid=1679133655&amp;s=electronics&amp;sr=1-114</td>\n",
       "      <td>4.1</td>\n",
       "      <td>2,400</td>\n",
       "      <td>₹799</td>\n",
       "      <td>₹1,299</td>\n",
       "      <td>I/51Kb3NDy1AL</td>\n",
       "      <td>OnePlus-Earphones-Enhanced-Dynamic-Earphone/dp/B0B937R948/ref=sr_1_114?qid=1679133655&amp;s=electronics&amp;sr=1-114</td>\n",
       "      <td>2400.0</td>\n",
       "      <td>4.1</td>\n",
       "      <td>799.0</td>\n",
       "      <td>1299.0</td>\n",
       "    </tr>\n",
       "    <tr>\n",
       "      <th>1504</th>\n",
       "      <td>Zebronics Zeb-Calyx Wired in Ear Earphones with Mic (Black)</td>\n",
       "      <td>https://m.media-amazon.com/images/I/71AUNLjgcEL._AC_UL320_.jpg</td>\n",
       "      <td>https://www.amazon.in/Zebronics-Zeb-Calyx-Wired-Earphone-Function/dp/B07XCX1P4P/ref=sr_1_1510?qid=1679133744&amp;s=electronics&amp;sr=1-1510</td>\n",
       "      <td>3.4</td>\n",
       "      <td>7,232</td>\n",
       "      <td>₹149</td>\n",
       "      <td>₹399</td>\n",
       "      <td>I/71AUNLjgcEL</td>\n",
       "      <td>Zebronics-Zeb-Calyx-Wired-Earphone-Function/dp/B07XCX1P4P/ref=sr_1_1510?qid=1679133744&amp;s=electronics&amp;sr=1-1510</td>\n",
       "      <td>7232.0</td>\n",
       "      <td>3.4</td>\n",
       "      <td>149.0</td>\n",
       "      <td>399.0</td>\n",
       "    </tr>\n",
       "    <tr>\n",
       "      <th>4140</th>\n",
       "      <td>ZEBRONICS Zeb-Tulip Wired in Ear Earphone with Mic (Black)</td>\n",
       "      <td>https://m.media-amazon.com/images/W/IMAGERENDERING_521856-T2/images/I/71F0AbVhWSL._AC_UL320_.jpg</td>\n",
       "      <td>https://www.amazon.in/Zebronics-Zeb-Tulip-Earphone-Drivers-Black/dp/B08BY6QVC1/ref=sr_1_4143?qid=1679133912&amp;s=electronics&amp;sr=1-4143</td>\n",
       "      <td>3.4</td>\n",
       "      <td>1,066</td>\n",
       "      <td>₹149</td>\n",
       "      <td>₹459</td>\n",
       "      <td>I/71F0AbVhWSL</td>\n",
       "      <td>Zebronics-Zeb-Tulip-Earphone-Drivers-Black/dp/B08BY6QVC1/ref=sr_1_4143?qid=1679133912&amp;s=electronics&amp;sr=1-4143</td>\n",
       "      <td>1066.0</td>\n",
       "      <td>3.4</td>\n",
       "      <td>149.0</td>\n",
       "      <td>459.0</td>\n",
       "    </tr>\n",
       "    <tr>\n",
       "      <th>7261</th>\n",
       "      <td>ZEBRONICS Zeb-Tulip Wired in Ear Earphone with Mic (White)</td>\n",
       "      <td>https://m.media-amazon.com/images/I/71+ynLeL8UL._AC_UL320_.jpg</td>\n",
       "      <td>https://www.amazon.in/Zebronics-Zeb-Tulip-Earphone-Drivers-White/dp/B08BY5WPFS/ref=sr_1_7264?qid=1679134100&amp;s=electronics&amp;sr=1-7264</td>\n",
       "      <td>3.4</td>\n",
       "      <td>1,066</td>\n",
       "      <td>₹149</td>\n",
       "      <td>₹459</td>\n",
       "      <td>I/71+ynLeL8UL</td>\n",
       "      <td>Zebronics-Zeb-Tulip-Earphone-Drivers-White/dp/B08BY5WPFS/ref=sr_1_7264?qid=1679134100&amp;s=electronics&amp;sr=1-7264</td>\n",
       "      <td>1066.0</td>\n",
       "      <td>3.4</td>\n",
       "      <td>149.0</td>\n",
       "      <td>459.0</td>\n",
       "    </tr>\n",
       "  </tbody>\n",
       "</table>\n",
       "</div>"
      ],
      "text/plain": [
       "                                                                                                                               name  \\\n",
       "92                ZEBRONICS Zeb-Bro in Ear Wired Earphones with Mic, 3.5mm Audio Jack, 10mm Drivers, Phone/Tablet Compatible(Green)   \n",
       "99                 ZEBRONICS Zeb-Bro in Ear Wired Earphones with Mic, 3.5mm Audio Jack, 10mm Drivers, Phone/Tablet Compatible(Blue)   \n",
       "626                 ZEBRONICS Zeb-Bro in Ear Wired Earphones with Mic, 3.5mm Audio Jack, 10mm Drivers, Phone/Tablet Compatible(Red)   \n",
       "2661  ZEBRONICS Zeb-BRO PRO in Ear Wired Stereo Earphones with Mic, 3.5mm Audio Input Jack, 10mm Drivers, in-Line Mic, 1.2 Metre...   \n",
       "5695  ZEBRONICS Zeb-BRO PRO in Ear Wired Stereo Earphones with Mic, 3.5mm Audio Input Jack, 10mm Drivers, in-Line Mic, 1.2 Metre...   \n",
       "6660  ZEBRONICS Zeb-BRO PRO in Ear Wired Stereo Earphones with Mic, 3.5mm Audio Input Jack, 10mm Drivers, in-Line Mic, 1.2 Metre...   \n",
       "111   OnePlus Nord Wired Earphones with mic, 3.5mm Audio Jack, Enhanced bass with 9.2mm Dynamic Drivers, in-Ear Wired Earphone -...   \n",
       "1504                                                                    Zebronics Zeb-Calyx Wired in Ear Earphones with Mic (Black)   \n",
       "4140                                                                     ZEBRONICS Zeb-Tulip Wired in Ear Earphone with Mic (Black)   \n",
       "7261                                                                     ZEBRONICS Zeb-Tulip Wired in Ear Earphone with Mic (White)   \n",
       "\n",
       "                                                                                                 image  \\\n",
       "92                                      https://m.media-amazon.com/images/I/61+0KSoFrOL._AC_UL320_.jpg   \n",
       "99                                      https://m.media-amazon.com/images/I/61+5q4oGJWL._AC_UL320_.jpg   \n",
       "626                                     https://m.media-amazon.com/images/I/61jv8Sj964L._AC_UL320_.jpg   \n",
       "2661  https://m.media-amazon.com/images/W/IMAGERENDERING_521856-T2/images/I/61IPq8Xf-SS._AC_UL320_.jpg   \n",
       "5695                                    https://m.media-amazon.com/images/I/61GwO7o3iqS._AC_UL320_.jpg   \n",
       "6660                                    https://m.media-amazon.com/images/I/61k+T6bn2eS._AC_UL320_.jpg   \n",
       "111                                     https://m.media-amazon.com/images/I/51Kb3NDy1AL._AC_UL320_.jpg   \n",
       "1504                                    https://m.media-amazon.com/images/I/71AUNLjgcEL._AC_UL320_.jpg   \n",
       "4140  https://m.media-amazon.com/images/W/IMAGERENDERING_521856-T2/images/I/71F0AbVhWSL._AC_UL320_.jpg   \n",
       "7261                                    https://m.media-amazon.com/images/I/71+ynLeL8UL._AC_UL320_.jpg   \n",
       "\n",
       "                                                                                                                                       link  \\\n",
       "92        https://www.amazon.in/ZEBRONICS-Zeb-Bro-Earphones-Compatible-Green/dp/B09R24JBYV/ref=sr_1_95?qid=1679133654&s=electronics&sr=1-95   \n",
       "99    https://www.amazon.in/ZEBRONICS-Zeb-Bro-Earphones-Drivers-Compatible/dp/B09R24HMNW/ref=sr_1_102?qid=1679133655&s=electronics&sr=1-102   \n",
       "626   https://www.amazon.in/ZEBRONICS-Zeb-Bro-Earphones-Drivers-Compatible/dp/B09PV1DFNJ/ref=sr_1_629?qid=1679133689&s=electronics&sr=1-629   \n",
       "2661          https://www.amazon.in/ZEBRONICS-Zeb-BRO-PRO-Earphones-Blue/dp/B08V95WWGN/ref=sr_1_2664?qid=1679133820&s=electronics&sr=1-2664   \n",
       "5695         https://www.amazon.in/ZEBRONICS-Zeb-BRO-PRO-Earphones-Black/dp/B08V561XJY/ref=sr_1_5699?qid=1679134009&s=electronics&sr=1-5699   \n",
       "6660         https://www.amazon.in/Zebronics-Zeb-BRO-PRO-Earphones-Green/dp/B08V8J16RK/ref=sr_1_6663?qid=1679134066&s=electronics&sr=1-6663   \n",
       "111      https://www.amazon.in/OnePlus-Earphones-Enhanced-Dynamic-Earphone/dp/B0B937R948/ref=sr_1_114?qid=1679133655&s=electronics&sr=1-114   \n",
       "1504   https://www.amazon.in/Zebronics-Zeb-Calyx-Wired-Earphone-Function/dp/B07XCX1P4P/ref=sr_1_1510?qid=1679133744&s=electronics&sr=1-1510   \n",
       "4140    https://www.amazon.in/Zebronics-Zeb-Tulip-Earphone-Drivers-Black/dp/B08BY6QVC1/ref=sr_1_4143?qid=1679133912&s=electronics&sr=1-4143   \n",
       "7261    https://www.amazon.in/Zebronics-Zeb-Tulip-Earphone-Drivers-White/dp/B08BY5WPFS/ref=sr_1_7264?qid=1679134100&s=electronics&sr=1-7264   \n",
       "\n",
       "     ratings no_of_ratings discount_price actual_price  Image url IDS  \\\n",
       "92       3.5        24,675           ₹149         ₹399  I/61+0KSoFrOL   \n",
       "99       3.5        24,675           ₹149         ₹399  I/61+5q4oGJWL   \n",
       "626      3.5        24,675           ₹149         ₹399  I/61jv8Sj964L   \n",
       "2661     3.6           658           ₹199         ₹449  I/61IPq8Xf-SS   \n",
       "5695     3.6           658           ₹199         ₹449  I/61GwO7o3iqS   \n",
       "6660     3.6           658           ₹199         ₹449  I/61k+T6bn2eS   \n",
       "111      4.1         2,400           ₹799       ₹1,299  I/51Kb3NDy1AL   \n",
       "1504     3.4         7,232           ₹149         ₹399  I/71AUNLjgcEL   \n",
       "4140     3.4         1,066           ₹149         ₹459  I/71F0AbVhWSL   \n",
       "7261     3.4         1,066           ₹149         ₹459  I/71+ynLeL8UL   \n",
       "\n",
       "                                                                                                      product Url Ids  \\\n",
       "92        ZEBRONICS-Zeb-Bro-Earphones-Compatible-Green/dp/B09R24JBYV/ref=sr_1_95?qid=1679133654&s=electronics&sr=1-95   \n",
       "99    ZEBRONICS-Zeb-Bro-Earphones-Drivers-Compatible/dp/B09R24HMNW/ref=sr_1_102?qid=1679133655&s=electronics&sr=1-102   \n",
       "626   ZEBRONICS-Zeb-Bro-Earphones-Drivers-Compatible/dp/B09PV1DFNJ/ref=sr_1_629?qid=1679133689&s=electronics&sr=1-629   \n",
       "2661          ZEBRONICS-Zeb-BRO-PRO-Earphones-Blue/dp/B08V95WWGN/ref=sr_1_2664?qid=1679133820&s=electronics&sr=1-2664   \n",
       "5695         ZEBRONICS-Zeb-BRO-PRO-Earphones-Black/dp/B08V561XJY/ref=sr_1_5699?qid=1679134009&s=electronics&sr=1-5699   \n",
       "6660         Zebronics-Zeb-BRO-PRO-Earphones-Green/dp/B08V8J16RK/ref=sr_1_6663?qid=1679134066&s=electronics&sr=1-6663   \n",
       "111      OnePlus-Earphones-Enhanced-Dynamic-Earphone/dp/B0B937R948/ref=sr_1_114?qid=1679133655&s=electronics&sr=1-114   \n",
       "1504   Zebronics-Zeb-Calyx-Wired-Earphone-Function/dp/B07XCX1P4P/ref=sr_1_1510?qid=1679133744&s=electronics&sr=1-1510   \n",
       "4140    Zebronics-Zeb-Tulip-Earphone-Drivers-Black/dp/B08BY6QVC1/ref=sr_1_4143?qid=1679133912&s=electronics&sr=1-4143   \n",
       "7261    Zebronics-Zeb-Tulip-Earphone-Drivers-White/dp/B08BY5WPFS/ref=sr_1_7264?qid=1679134100&s=electronics&sr=1-7264   \n",
       "\n",
       "      no_of_ratings_cleaned  ratings_cleaned  discount_price_cleaned  \\\n",
       "92                  24675.0              3.5                   149.0   \n",
       "99                  24675.0              3.5                   149.0   \n",
       "626                 24675.0              3.5                   149.0   \n",
       "2661                  658.0              3.6                   199.0   \n",
       "5695                  658.0              3.6                   199.0   \n",
       "6660                  658.0              3.6                   199.0   \n",
       "111                  2400.0              4.1                   799.0   \n",
       "1504                 7232.0              3.4                   149.0   \n",
       "4140                 1066.0              3.4                   149.0   \n",
       "7261                 1066.0              3.4                   149.0   \n",
       "\n",
       "      actual_price_cleaned  \n",
       "92                   399.0  \n",
       "99                   399.0  \n",
       "626                  399.0  \n",
       "2661                 449.0  \n",
       "5695                 449.0  \n",
       "6660                 449.0  \n",
       "111                 1299.0  \n",
       "1504                 399.0  \n",
       "4140                 459.0  \n",
       "7261                 459.0  "
      ]
     },
     "execution_count": 96,
     "metadata": {},
     "output_type": "execute_result"
    }
   ],
   "source": [
    "recommendations = recommender('ZEBRONICS Zeb-Bro in Ear Wired Earphones with Mic, 3.5mm Audio Jack, 10mm Drivers, Phone/Tablet Compatible(Blue)',electronics['name'],top_10_similarites_matrix)\n",
    "electronics.loc[recommendations]"
   ]
  },
  {
   "cell_type": "code",
   "execution_count": 97,
   "id": "52ffa455",
   "metadata": {},
   "outputs": [],
   "source": [
    "import pickle"
   ]
  },
  {
   "cell_type": "code",
   "execution_count": 98,
   "id": "21c3666f",
   "metadata": {},
   "outputs": [],
   "source": [
    "pickle.dump(electronics[['name','ratings','no_of_ratings','discount_price','actual_price','product Url Ids','Image url IDS']],open('Product-details.pkl','wb'))\n",
    "pickle.dump(top_100_product_index,open('top100_product_indexs.pkl','wb'))\n",
    "pickle.dump(np.array(top_10_similarites_matrix).astype('int16'),open('top10 Similar Products Index Matrix.pkl','wb'))"
   ]
  },
  {
   "cell_type": "code",
   "execution_count": null,
   "id": "68ddc38f",
   "metadata": {},
   "outputs": [],
   "source": []
  },
  {
   "cell_type": "code",
   "execution_count": null,
   "id": "feff9a72",
   "metadata": {},
   "outputs": [],
   "source": []
  },
  {
   "cell_type": "code",
   "execution_count": null,
   "id": "f4af2836",
   "metadata": {},
   "outputs": [],
   "source": []
  },
  {
   "cell_type": "code",
   "execution_count": null,
   "id": "23652e61",
   "metadata": {},
   "outputs": [],
   "source": []
  },
  {
   "cell_type": "code",
   "execution_count": null,
   "id": "8d279c79",
   "metadata": {},
   "outputs": [],
   "source": []
  }
 ],
 "metadata": {
  "kernelspec": {
   "display_name": "Python 3 (ipykernel)",
   "language": "python",
   "name": "python3"
  },
  "language_info": {
   "codemirror_mode": {
    "name": "ipython",
    "version": 3
   },
   "file_extension": ".py",
   "mimetype": "text/x-python",
   "name": "python",
   "nbconvert_exporter": "python",
   "pygments_lexer": "ipython3",
   "version": "3.9.13"
  },
  "varInspector": {
   "cols": {
    "lenName": 16,
    "lenType": 16,
    "lenVar": 40
   },
   "kernels_config": {
    "python": {
     "delete_cmd_postfix": "",
     "delete_cmd_prefix": "del ",
     "library": "var_list.py",
     "varRefreshCmd": "print(var_dic_list())"
    },
    "r": {
     "delete_cmd_postfix": ") ",
     "delete_cmd_prefix": "rm(",
     "library": "var_list.r",
     "varRefreshCmd": "cat(var_dic_list()) "
    }
   },
   "types_to_exclude": [
    "module",
    "function",
    "builtin_function_or_method",
    "instance",
    "_Feature"
   ],
   "window_display": false
  }
 },
 "nbformat": 4,
 "nbformat_minor": 5
}
